{
 "cells": [
  {
   "cell_type": "code",
   "execution_count": 1,
   "id": "b9a1db4f",
   "metadata": {
    "_cell_guid": "b1076dfc-b9ad-4769-8c92-a6c4dae69d19",
    "_uuid": "8f2839f25d086af736a60e9eeb907d3b93b6e0e5",
    "execution": {
     "iopub.execute_input": "2024-11-05T23:41:21.070061Z",
     "iopub.status.busy": "2024-11-05T23:41:21.069596Z",
     "iopub.status.idle": "2024-11-05T23:41:24.846239Z",
     "shell.execute_reply": "2024-11-05T23:41:24.845203Z"
    },
    "papermill": {
     "duration": 3.786,
     "end_time": "2024-11-05T23:41:24.849078",
     "exception": false,
     "start_time": "2024-11-05T23:41:21.063078",
     "status": "completed"
    },
    "tags": []
   },
   "outputs": [],
   "source": [
    "import pandas as pd\n",
    "import numpy as np\n",
    "import matplotlib.pyplot as plt\n",
    "import category_encoders as ce\n",
    "import statsmodels.formula.api as sm\n",
    "import seaborn as sns\n",
    "%matplotlib inline\n",
    "\n",
    "pd.set_option('display.max_rows', 300)"
   ]
  },
  {
   "cell_type": "code",
   "execution_count": 2,
   "id": "54e6675d",
   "metadata": {
    "execution": {
     "iopub.execute_input": "2024-11-05T23:41:24.863025Z",
     "iopub.status.busy": "2024-11-05T23:41:24.862129Z",
     "iopub.status.idle": "2024-11-05T23:41:24.918006Z",
     "shell.execute_reply": "2024-11-05T23:41:24.916600Z"
    },
    "papermill": {
     "duration": 0.066378,
     "end_time": "2024-11-05T23:41:24.920947",
     "exception": false,
     "start_time": "2024-11-05T23:41:24.854569",
     "status": "completed"
    },
    "tags": []
   },
   "outputs": [],
   "source": [
    "df_train = pd.read_csv('/kaggle/input/house-price-dataset/train (1).csv')"
   ]
  },
  {
   "cell_type": "code",
   "execution_count": 3,
   "id": "9cc7b464",
   "metadata": {
    "execution": {
     "iopub.execute_input": "2024-11-05T23:41:24.932513Z",
     "iopub.status.busy": "2024-11-05T23:41:24.931985Z",
     "iopub.status.idle": "2024-11-05T23:41:25.246078Z",
     "shell.execute_reply": "2024-11-05T23:41:25.245009Z"
    },
    "papermill": {
     "duration": 0.322927,
     "end_time": "2024-11-05T23:41:25.248694",
     "exception": false,
     "start_time": "2024-11-05T23:41:24.925767",
     "status": "completed"
    },
    "tags": []
   },
   "outputs": [
    {
     "data": {
      "text/plain": [
       "0    0.790982\n",
       "1    0.708624\n",
       "Name: SalePrice, dtype: float64"
      ]
     },
     "execution_count": 3,
     "metadata": {},
     "output_type": "execute_result"
    }
   ],
   "source": [
    "df_train =  pd.get_dummies(df_train,drop_first=True)\n",
    "best_corrs = df_train.corr()['SalePrice'].sort_values(ascending=False).drop(['SalePrice'],axis=0).reset_index(drop=True).head(2)\n",
    "best_corrs"
   ]
  },
  {
   "cell_type": "code",
   "execution_count": 4,
   "id": "89234dfa",
   "metadata": {
    "execution": {
     "iopub.execute_input": "2024-11-05T23:41:25.259474Z",
     "iopub.status.busy": "2024-11-05T23:41:25.259083Z",
     "iopub.status.idle": "2024-11-05T23:41:25.283399Z",
     "shell.execute_reply": "2024-11-05T23:41:25.282239Z"
    },
    "papermill": {
     "duration": 0.033087,
     "end_time": "2024-11-05T23:41:25.286261",
     "exception": false,
     "start_time": "2024-11-05T23:41:25.253174",
     "status": "completed"
    },
    "tags": []
   },
   "outputs": [],
   "source": [
    "#Encoding every value that it`s type is equal to object, so we can use it in our regression\n",
    "cols = []\n",
    "for i in df_train.columns:\n",
    "    if(df_train[i].dtype == 'object'):\n",
    "        cols.append(i)\n",
    "encoder = ce.OrdinalEncoder(cols=cols)\n",
    "X_train =  encoder.fit_transform(df_train.drop(['SalePrice'],axis=1).reset_index(drop=True))\n",
    "Y_train = df_train['SalePrice']"
   ]
  },
  {
   "cell_type": "code",
   "execution_count": 5,
   "id": "1a696aac",
   "metadata": {
    "execution": {
     "iopub.execute_input": "2024-11-05T23:41:25.298700Z",
     "iopub.status.busy": "2024-11-05T23:41:25.298263Z",
     "iopub.status.idle": "2024-11-05T23:41:25.383496Z",
     "shell.execute_reply": "2024-11-05T23:41:25.382345Z"
    },
    "papermill": {
     "duration": 0.094352,
     "end_time": "2024-11-05T23:41:25.386006",
     "exception": false,
     "start_time": "2024-11-05T23:41:25.291654",
     "status": "completed"
    },
    "tags": []
   },
   "outputs": [
    {
     "data": {
      "text/html": [
       "<table class=\"simpletable\">\n",
       "<caption>OLS Regression Results</caption>\n",
       "<tr>\n",
       "  <th>Dep. Variable:</th>        <td>SalePrice</td>    <th>  R-squared:         </th> <td>   0.714</td> \n",
       "</tr>\n",
       "<tr>\n",
       "  <th>Model:</th>                   <td>OLS</td>       <th>  Adj. R-squared:    </th> <td>   0.714</td> \n",
       "</tr>\n",
       "<tr>\n",
       "  <th>Method:</th>             <td>Least Squares</td>  <th>  F-statistic:       </th> <td>   1820.</td> \n",
       "</tr>\n",
       "<tr>\n",
       "  <th>Date:</th>             <td>Tue, 05 Nov 2024</td> <th>  Prob (F-statistic):</th>  <td>  0.00</td>  \n",
       "</tr>\n",
       "<tr>\n",
       "  <th>Time:</th>                 <td>23:41:25</td>     <th>  Log-Likelihood:    </th> <td> -17630.</td> \n",
       "</tr>\n",
       "<tr>\n",
       "  <th>No. Observations:</th>      <td>  1460</td>      <th>  AIC:               </th> <td>3.527e+04</td>\n",
       "</tr>\n",
       "<tr>\n",
       "  <th>Df Residuals:</th>          <td>  1457</td>      <th>  BIC:               </th> <td>3.528e+04</td>\n",
       "</tr>\n",
       "<tr>\n",
       "  <th>Df Model:</th>              <td>     2</td>      <th>                     </th>     <td> </td>    \n",
       "</tr>\n",
       "<tr>\n",
       "  <th>Covariance Type:</th>      <td>nonrobust</td>    <th>                     </th>     <td> </td>    \n",
       "</tr>\n",
       "</table>\n",
       "<table class=\"simpletable\">\n",
       "<tr>\n",
       "       <td></td>          <th>coef</th>     <th>std err</th>      <th>t</th>      <th>P>|t|</th>  <th>[0.025</th>    <th>0.975]</th>  \n",
       "</tr>\n",
       "<tr>\n",
       "  <th>Intercept</th>   <td>-1.041e+05</td> <td> 5045.372</td> <td>  -20.631</td> <td> 0.000</td> <td>-1.14e+05</td> <td>-9.42e+04</td>\n",
       "</tr>\n",
       "<tr>\n",
       "  <th>OverallQual</th> <td> 3.285e+04</td> <td>  999.198</td> <td>   32.875</td> <td> 0.000</td> <td> 3.09e+04</td> <td> 3.48e+04</td>\n",
       "</tr>\n",
       "<tr>\n",
       "  <th>GrLivArea</th>   <td>   55.8622</td> <td>    2.630</td> <td>   21.242</td> <td> 0.000</td> <td>   50.704</td> <td>   61.021</td>\n",
       "</tr>\n",
       "</table>\n",
       "<table class=\"simpletable\">\n",
       "<tr>\n",
       "  <th>Omnibus:</th>       <td>341.985</td> <th>  Durbin-Watson:     </th> <td>   1.985</td>\n",
       "</tr>\n",
       "<tr>\n",
       "  <th>Prob(Omnibus):</th> <td> 0.000</td>  <th>  Jarque-Bera (JB):  </th> <td>8725.150</td>\n",
       "</tr>\n",
       "<tr>\n",
       "  <th>Skew:</th>          <td> 0.469</td>  <th>  Prob(JB):          </th> <td>    0.00</td>\n",
       "</tr>\n",
       "<tr>\n",
       "  <th>Kurtosis:</th>      <td>14.939</td>  <th>  Cond. No.          </th> <td>7.35e+03</td>\n",
       "</tr>\n",
       "</table><br/><br/>Notes:<br/>[1] Standard Errors assume that the covariance matrix of the errors is correctly specified.<br/>[2] The condition number is large, 7.35e+03. This might indicate that there are<br/>strong multicollinearity or other numerical problems."
      ],
      "text/latex": [
       "\\begin{center}\n",
       "\\begin{tabular}{lclc}\n",
       "\\toprule\n",
       "\\textbf{Dep. Variable:}    &    SalePrice     & \\textbf{  R-squared:         } &     0.714   \\\\\n",
       "\\textbf{Model:}            &       OLS        & \\textbf{  Adj. R-squared:    } &     0.714   \\\\\n",
       "\\textbf{Method:}           &  Least Squares   & \\textbf{  F-statistic:       } &     1820.   \\\\\n",
       "\\textbf{Date:}             & Tue, 05 Nov 2024 & \\textbf{  Prob (F-statistic):} &     0.00    \\\\\n",
       "\\textbf{Time:}             &     23:41:25     & \\textbf{  Log-Likelihood:    } &   -17630.   \\\\\n",
       "\\textbf{No. Observations:} &        1460      & \\textbf{  AIC:               } & 3.527e+04   \\\\\n",
       "\\textbf{Df Residuals:}     &        1457      & \\textbf{  BIC:               } & 3.528e+04   \\\\\n",
       "\\textbf{Df Model:}         &           2      & \\textbf{                     } &             \\\\\n",
       "\\textbf{Covariance Type:}  &    nonrobust     & \\textbf{                     } &             \\\\\n",
       "\\bottomrule\n",
       "\\end{tabular}\n",
       "\\begin{tabular}{lcccccc}\n",
       "                     & \\textbf{coef} & \\textbf{std err} & \\textbf{t} & \\textbf{P$> |$t$|$} & \\textbf{[0.025} & \\textbf{0.975]}  \\\\\n",
       "\\midrule\n",
       "\\textbf{Intercept}   &   -1.041e+05  &     5045.372     &   -20.631  &         0.000        &    -1.14e+05    &    -9.42e+04     \\\\\n",
       "\\textbf{OverallQual} &    3.285e+04  &      999.198     &    32.875  &         0.000        &     3.09e+04    &     3.48e+04     \\\\\n",
       "\\textbf{GrLivArea}   &      55.8622  &        2.630     &    21.242  &         0.000        &       50.704    &       61.021     \\\\\n",
       "\\bottomrule\n",
       "\\end{tabular}\n",
       "\\begin{tabular}{lclc}\n",
       "\\textbf{Omnibus:}       & 341.985 & \\textbf{  Durbin-Watson:     } &    1.985  \\\\\n",
       "\\textbf{Prob(Omnibus):} &   0.000 & \\textbf{  Jarque-Bera (JB):  } & 8725.150  \\\\\n",
       "\\textbf{Skew:}          &   0.469 & \\textbf{  Prob(JB):          } &     0.00  \\\\\n",
       "\\textbf{Kurtosis:}      &  14.939 & \\textbf{  Cond. No.          } & 7.35e+03  \\\\\n",
       "\\bottomrule\n",
       "\\end{tabular}\n",
       "%\\caption{OLS Regression Results}\n",
       "\\end{center}\n",
       "\n",
       "Notes: \\newline\n",
       " [1] Standard Errors assume that the covariance matrix of the errors is correctly specified. \\newline\n",
       " [2] The condition number is large, 7.35e+03. This might indicate that there are \\newline\n",
       " strong multicollinearity or other numerical problems."
      ],
      "text/plain": [
       "<class 'statsmodels.iolib.summary.Summary'>\n",
       "\"\"\"\n",
       "                            OLS Regression Results                            \n",
       "==============================================================================\n",
       "Dep. Variable:              SalePrice   R-squared:                       0.714\n",
       "Model:                            OLS   Adj. R-squared:                  0.714\n",
       "Method:                 Least Squares   F-statistic:                     1820.\n",
       "Date:                Tue, 05 Nov 2024   Prob (F-statistic):               0.00\n",
       "Time:                        23:41:25   Log-Likelihood:                -17630.\n",
       "No. Observations:                1460   AIC:                         3.527e+04\n",
       "Df Residuals:                    1457   BIC:                         3.528e+04\n",
       "Df Model:                           2                                         \n",
       "Covariance Type:            nonrobust                                         \n",
       "===============================================================================\n",
       "                  coef    std err          t      P>|t|      [0.025      0.975]\n",
       "-------------------------------------------------------------------------------\n",
       "Intercept   -1.041e+05   5045.372    -20.631      0.000   -1.14e+05   -9.42e+04\n",
       "OverallQual  3.285e+04    999.198     32.875      0.000    3.09e+04    3.48e+04\n",
       "GrLivArea      55.8622      2.630     21.242      0.000      50.704      61.021\n",
       "==============================================================================\n",
       "Omnibus:                      341.985   Durbin-Watson:                   1.985\n",
       "Prob(Omnibus):                  0.000   Jarque-Bera (JB):             8725.150\n",
       "Skew:                           0.469   Prob(JB):                         0.00\n",
       "Kurtosis:                      14.939   Cond. No.                     7.35e+03\n",
       "==============================================================================\n",
       "\n",
       "Notes:\n",
       "[1] Standard Errors assume that the covariance matrix of the errors is correctly specified.\n",
       "[2] The condition number is large, 7.35e+03. This might indicate that there are\n",
       "strong multicollinearity or other numerical problems.\n",
       "\"\"\""
      ]
     },
     "execution_count": 5,
     "metadata": {},
     "output_type": "execute_result"
    }
   ],
   "source": [
    "model = sm.ols(formula='SalePrice ~ OverallQual + GrLivArea ',data=encoder.fit_transform(df_train.drop(['Id'],axis=1).reset_index(drop=True)))\n",
    "model = model.fit()\n",
    "model.summary()"
   ]
  },
  {
   "cell_type": "code",
   "execution_count": 6,
   "id": "a68c2e91",
   "metadata": {
    "execution": {
     "iopub.execute_input": "2024-11-05T23:41:25.397444Z",
     "iopub.status.busy": "2024-11-05T23:41:25.397010Z",
     "iopub.status.idle": "2024-11-05T23:41:25.441964Z",
     "shell.execute_reply": "2024-11-05T23:41:25.440746Z"
    },
    "papermill": {
     "duration": 0.053715,
     "end_time": "2024-11-05T23:41:25.444689",
     "exception": false,
     "start_time": "2024-11-05T23:41:25.390974",
     "status": "completed"
    },
    "tags": []
   },
   "outputs": [],
   "source": [
    "df_test = pd.read_csv('/kaggle/input/house-price-dataset/test (1).csv') \n"
   ]
  },
  {
   "cell_type": "code",
   "execution_count": 7,
   "id": "632fdf7c",
   "metadata": {
    "execution": {
     "iopub.execute_input": "2024-11-05T23:41:25.456822Z",
     "iopub.status.busy": "2024-11-05T23:41:25.456331Z",
     "iopub.status.idle": "2024-11-05T23:41:25.464941Z",
     "shell.execute_reply": "2024-11-05T23:41:25.463808Z"
    },
    "papermill": {
     "duration": 0.017838,
     "end_time": "2024-11-05T23:41:25.467751",
     "exception": false,
     "start_time": "2024-11-05T23:41:25.449913",
     "status": "completed"
    },
    "tags": []
   },
   "outputs": [],
   "source": [
    "X_test = encoder.fit_transform(df_test)\n"
   ]
  },
  {
   "cell_type": "code",
   "execution_count": 8,
   "id": "ae132d38",
   "metadata": {
    "execution": {
     "iopub.execute_input": "2024-11-05T23:41:25.479925Z",
     "iopub.status.busy": "2024-11-05T23:41:25.479451Z",
     "iopub.status.idle": "2024-11-05T23:41:25.491805Z",
     "shell.execute_reply": "2024-11-05T23:41:25.490783Z"
    },
    "papermill": {
     "duration": 0.02149,
     "end_time": "2024-11-05T23:41:25.494258",
     "exception": false,
     "start_time": "2024-11-05T23:41:25.472768",
     "status": "completed"
    },
    "tags": []
   },
   "outputs": [],
   "source": [
    "predictions = model.predict(X_test)"
   ]
  },
  {
   "cell_type": "code",
   "execution_count": 9,
   "id": "cc01f64e",
   "metadata": {
    "execution": {
     "iopub.execute_input": "2024-11-05T23:41:25.506205Z",
     "iopub.status.busy": "2024-11-05T23:41:25.505770Z",
     "iopub.status.idle": "2024-11-05T23:41:25.512286Z",
     "shell.execute_reply": "2024-11-05T23:41:25.511065Z"
    },
    "papermill": {
     "duration": 0.015392,
     "end_time": "2024-11-05T23:41:25.514695",
     "exception": false,
     "start_time": "2024-11-05T23:41:25.499303",
     "status": "completed"
    },
    "tags": []
   },
   "outputs": [],
   "source": [
    "submission = pd.DataFrame({'Id':df_test['Id'],'SalePrice':predictions})"
   ]
  },
  {
   "cell_type": "code",
   "execution_count": 10,
   "id": "e25aa0e1",
   "metadata": {
    "execution": {
     "iopub.execute_input": "2024-11-05T23:41:25.526877Z",
     "iopub.status.busy": "2024-11-05T23:41:25.526462Z",
     "iopub.status.idle": "2024-11-05T23:41:25.540534Z",
     "shell.execute_reply": "2024-11-05T23:41:25.539346Z"
    },
    "papermill": {
     "duration": 0.023534,
     "end_time": "2024-11-05T23:41:25.543336",
     "exception": false,
     "start_time": "2024-11-05T23:41:25.519802",
     "status": "completed"
    },
    "tags": []
   },
   "outputs": [],
   "source": [
    "submission.head()\n",
    "submission.to_csv('./submission.csv',index=False)  "
   ]
  }
 ],
 "metadata": {
  "kaggle": {
   "accelerator": "none",
   "dataSources": [
    {
     "datasetId": 6019481,
     "sourceId": 9817803,
     "sourceType": "datasetVersion"
    }
   ],
   "dockerImageVersionId": 30786,
   "isGpuEnabled": false,
   "isInternetEnabled": true,
   "language": "python",
   "sourceType": "notebook"
  },
  "kernelspec": {
   "display_name": "Python 3",
   "language": "python",
   "name": "python3"
  },
  "language_info": {
   "codemirror_mode": {
    "name": "ipython",
    "version": 3
   },
   "file_extension": ".py",
   "mimetype": "text/x-python",
   "name": "python",
   "nbconvert_exporter": "python",
   "pygments_lexer": "ipython3",
   "version": "3.10.14"
  },
  "papermill": {
   "default_parameters": {},
   "duration": 8.546821,
   "end_time": "2024-11-05T23:41:26.271130",
   "environment_variables": {},
   "exception": null,
   "input_path": "__notebook__.ipynb",
   "output_path": "__notebook__.ipynb",
   "parameters": {},
   "start_time": "2024-11-05T23:41:17.724309",
   "version": "2.6.0"
  }
 },
 "nbformat": 4,
 "nbformat_minor": 5
}
