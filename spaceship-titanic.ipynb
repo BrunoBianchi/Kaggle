{
 "cells": [
  {
   "cell_type": "code",
   "execution_count": 1,
   "id": "9fd0733f",
   "metadata": {
    "_cell_guid": "b1076dfc-b9ad-4769-8c92-a6c4dae69d19",
    "_uuid": "8f2839f25d086af736a60e9eeb907d3b93b6e0e5",
    "execution": {
     "iopub.execute_input": "2024-11-04T23:25:31.183936Z",
     "iopub.status.busy": "2024-11-04T23:25:31.183453Z",
     "iopub.status.idle": "2024-11-04T23:25:34.796427Z",
     "shell.execute_reply": "2024-11-04T23:25:34.795278Z"
    },
    "papermill": {
     "duration": 3.625293,
     "end_time": "2024-11-04T23:25:34.799416",
     "exception": false,
     "start_time": "2024-11-04T23:25:31.174123",
     "status": "completed"
    },
    "tags": []
   },
   "outputs": [],
   "source": [
    "import pandas as pd\n",
    "import numpy as np\n",
    "import matplotlib.pyplot as plt\n",
    "import seaborn as sns\n",
    "import statsmodels.formula.api as sm\n",
    "from sklearn.ensemble import RandomForestClassifier\n",
    "from sklearn.model_selection import train_test_split\n",
    "import category_encoders as ce\n"
   ]
  },
  {
   "cell_type": "code",
   "execution_count": 2,
   "id": "0171f62f",
   "metadata": {
    "execution": {
     "iopub.execute_input": "2024-11-04T23:25:34.815547Z",
     "iopub.status.busy": "2024-11-04T23:25:34.814945Z",
     "iopub.status.idle": "2024-11-04T23:25:34.883162Z",
     "shell.execute_reply": "2024-11-04T23:25:34.881934Z"
    },
    "papermill": {
     "duration": 0.079249,
     "end_time": "2024-11-04T23:25:34.885923",
     "exception": false,
     "start_time": "2024-11-04T23:25:34.806674",
     "status": "completed"
    },
    "tags": []
   },
   "outputs": [],
   "source": [
    "df = pd.read_csv('/kaggle/input/spaceshipt-df/train.csv')\n"
   ]
  },
  {
   "cell_type": "code",
   "execution_count": 3,
   "id": "d002717c",
   "metadata": {
    "execution": {
     "iopub.execute_input": "2024-11-04T23:25:34.901332Z",
     "iopub.status.busy": "2024-11-04T23:25:34.900872Z",
     "iopub.status.idle": "2024-11-04T23:25:34.909355Z",
     "shell.execute_reply": "2024-11-04T23:25:34.908357Z"
    },
    "papermill": {
     "duration": 0.018727,
     "end_time": "2024-11-04T23:25:34.911528",
     "exception": false,
     "start_time": "2024-11-04T23:25:34.892801",
     "status": "completed"
    },
    "tags": []
   },
   "outputs": [
    {
     "data": {
      "text/plain": [
       "Index(['PassengerId', 'HomePlanet', 'CryoSleep', 'Cabin', 'Destination', 'Age',\n",
       "       'VIP', 'RoomService', 'FoodCourt', 'ShoppingMall', 'Spa', 'VRDeck',\n",
       "       'Name', 'Transported'],\n",
       "      dtype='object')"
      ]
     },
     "execution_count": 3,
     "metadata": {},
     "output_type": "execute_result"
    }
   ],
   "source": [
    "df.columns"
   ]
  },
  {
   "cell_type": "code",
   "execution_count": 4,
   "id": "68f59edb",
   "metadata": {
    "execution": {
     "iopub.execute_input": "2024-11-04T23:25:34.927415Z",
     "iopub.status.busy": "2024-11-04T23:25:34.926500Z",
     "iopub.status.idle": "2024-11-04T23:25:34.948192Z",
     "shell.execute_reply": "2024-11-04T23:25:34.946888Z"
    },
    "papermill": {
     "duration": 0.032441,
     "end_time": "2024-11-04T23:25:34.950955",
     "exception": false,
     "start_time": "2024-11-04T23:25:34.918514",
     "status": "completed"
    },
    "tags": []
   },
   "outputs": [],
   "source": [
    "df = df[['PassengerId', 'HomePlanet', 'CryoSleep', 'Cabin', 'Destination', 'Age',\n",
    "       'VIP', 'RoomService', 'FoodCourt', 'ShoppingMall', 'Spa', 'VRDeck',\n",
    "       'Name', 'Transported']].copy()\\\n",
    ".reset_index(drop=True)"
   ]
  },
  {
   "cell_type": "code",
   "execution_count": 5,
   "id": "c2677417",
   "metadata": {
    "execution": {
     "iopub.execute_input": "2024-11-04T23:25:34.966344Z",
     "iopub.status.busy": "2024-11-04T23:25:34.965874Z",
     "iopub.status.idle": "2024-11-04T23:25:34.983225Z",
     "shell.execute_reply": "2024-11-04T23:25:34.982206Z"
    },
    "papermill": {
     "duration": 0.027976,
     "end_time": "2024-11-04T23:25:34.985881",
     "exception": false,
     "start_time": "2024-11-04T23:25:34.957905",
     "status": "completed"
    },
    "tags": []
   },
   "outputs": [],
   "source": [
    "df.groupby('HomePlanet').size()\n",
    "# Replace Na Values with the mode of the planets\n",
    "planets_mode = df['HomePlanet'].mode(dropna=True)[0]\n",
    "df['HomePlanet'] = df['HomePlanet'].fillna(planets_mode).copy()\n",
    "\n",
    "\n"
   ]
  },
  {
   "cell_type": "code",
   "execution_count": 6,
   "id": "9d4a9ead",
   "metadata": {
    "execution": {
     "iopub.execute_input": "2024-11-04T23:25:35.001792Z",
     "iopub.status.busy": "2024-11-04T23:25:35.001379Z",
     "iopub.status.idle": "2024-11-04T23:25:35.012592Z",
     "shell.execute_reply": "2024-11-04T23:25:35.011395Z"
    },
    "papermill": {
     "duration": 0.022631,
     "end_time": "2024-11-04T23:25:35.015701",
     "exception": false,
     "start_time": "2024-11-04T23:25:34.993070",
     "status": "completed"
    },
    "tags": []
   },
   "outputs": [
    {
     "name": "stderr",
     "output_type": "stream",
     "text": [
      "/tmp/ipykernel_17/3772733588.py:2: FutureWarning: Downcasting object dtype arrays on .fillna, .ffill, .bfill is deprecated and will change in a future version. Call result.infer_objects(copy=False) instead. To opt-in to the future behavior, set `pd.set_option('future.no_silent_downcasting', True)`\n",
      "  df['CryoSleep'] = df['CryoSleep'].fillna(cryosleep_mode).copy()\n"
     ]
    }
   ],
   "source": [
    "cryosleep_mode = df['CryoSleep'].mode(dropna=True)[0]\n",
    "df['CryoSleep'] = df['CryoSleep'].fillna(cryosleep_mode).copy()\n"
   ]
  },
  {
   "cell_type": "code",
   "execution_count": 7,
   "id": "045159a9",
   "metadata": {
    "execution": {
     "iopub.execute_input": "2024-11-04T23:25:35.032015Z",
     "iopub.status.busy": "2024-11-04T23:25:35.031059Z",
     "iopub.status.idle": "2024-11-04T23:25:35.040980Z",
     "shell.execute_reply": "2024-11-04T23:25:35.040014Z"
    },
    "papermill": {
     "duration": 0.020602,
     "end_time": "2024-11-04T23:25:35.043394",
     "exception": false,
     "start_time": "2024-11-04T23:25:35.022792",
     "status": "completed"
    },
    "tags": []
   },
   "outputs": [],
   "source": [
    "# Replacing na values from destination with mode of it!\n",
    "destination_mode = df['Destination'].mode(dropna=True)[0]\n",
    "df['Destination'] = df['Destination'].fillna(destination_mode).copy()\n",
    "\n"
   ]
  },
  {
   "cell_type": "code",
   "execution_count": 8,
   "id": "5309bcfb",
   "metadata": {
    "execution": {
     "iopub.execute_input": "2024-11-04T23:25:35.060784Z",
     "iopub.status.busy": "2024-11-04T23:25:35.059760Z",
     "iopub.status.idle": "2024-11-04T23:25:35.067321Z",
     "shell.execute_reply": "2024-11-04T23:25:35.066259Z"
    },
    "papermill": {
     "duration": 0.018502,
     "end_time": "2024-11-04T23:25:35.070013",
     "exception": false,
     "start_time": "2024-11-04T23:25:35.051511",
     "status": "completed"
    },
    "tags": []
   },
   "outputs": [],
   "source": [
    "# Replacing Na values from age by it`s mean\n",
    "age_mean = round(df['Age'].mean(skipna=True))\n",
    "df['Age'] = df['Age'].fillna(age_mean).copy()"
   ]
  },
  {
   "cell_type": "code",
   "execution_count": 9,
   "id": "d4c729ca",
   "metadata": {
    "execution": {
     "iopub.execute_input": "2024-11-04T23:25:35.086873Z",
     "iopub.status.busy": "2024-11-04T23:25:35.085856Z",
     "iopub.status.idle": "2024-11-04T23:25:35.102398Z",
     "shell.execute_reply": "2024-11-04T23:25:35.101394Z"
    },
    "papermill": {
     "duration": 0.027437,
     "end_time": "2024-11-04T23:25:35.105115",
     "exception": false,
     "start_time": "2024-11-04T23:25:35.077678",
     "status": "completed"
    },
    "tags": []
   },
   "outputs": [],
   "source": [
    "#Removing VIP , Cabin and NAME rows witha na values\n",
    "df = df.dropna(subset=['VIP','Cabin','Name']).copy().reset_index(drop=True)\n"
   ]
  },
  {
   "cell_type": "code",
   "execution_count": 10,
   "id": "ec2f96f4",
   "metadata": {
    "execution": {
     "iopub.execute_input": "2024-11-04T23:25:35.121427Z",
     "iopub.status.busy": "2024-11-04T23:25:35.120520Z",
     "iopub.status.idle": "2024-11-04T23:25:35.126941Z",
     "shell.execute_reply": "2024-11-04T23:25:35.125772Z"
    },
    "papermill": {
     "duration": 0.017853,
     "end_time": "2024-11-04T23:25:35.130111",
     "exception": false,
     "start_time": "2024-11-04T23:25:35.112258",
     "status": "completed"
    },
    "tags": []
   },
   "outputs": [],
   "source": [
    "df['Transported'] = df['Transported'].astype(int)\n",
    "df['CryoSleep'] = df['CryoSleep'].astype(int)"
   ]
  },
  {
   "cell_type": "code",
   "execution_count": 11,
   "id": "d8de628a",
   "metadata": {
    "execution": {
     "iopub.execute_input": "2024-11-04T23:25:35.146155Z",
     "iopub.status.busy": "2024-11-04T23:25:35.145242Z",
     "iopub.status.idle": "2024-11-04T23:25:35.152448Z",
     "shell.execute_reply": "2024-11-04T23:25:35.151348Z"
    },
    "papermill": {
     "duration": 0.017859,
     "end_time": "2024-11-04T23:25:35.154945",
     "exception": false,
     "start_time": "2024-11-04T23:25:35.137086",
     "status": "completed"
    },
    "tags": []
   },
   "outputs": [],
   "source": [
    "X = df.drop(['Transported'],axis = 1)\n",
    "y = df['Transported']"
   ]
  },
  {
   "cell_type": "code",
   "execution_count": 12,
   "id": "55ee494e",
   "metadata": {
    "execution": {
     "iopub.execute_input": "2024-11-04T23:25:35.170638Z",
     "iopub.status.busy": "2024-11-04T23:25:35.170198Z",
     "iopub.status.idle": "2024-11-04T23:25:35.181774Z",
     "shell.execute_reply": "2024-11-04T23:25:35.180714Z"
    },
    "papermill": {
     "duration": 0.022128,
     "end_time": "2024-11-04T23:25:35.184152",
     "exception": false,
     "start_time": "2024-11-04T23:25:35.162024",
     "status": "completed"
    },
    "tags": []
   },
   "outputs": [],
   "source": [
    "X_train, X_test, y_train, y_test = train_test_split(X, y, test_size = 0.35, random_state =3000)"
   ]
  },
  {
   "cell_type": "code",
   "execution_count": 13,
   "id": "343a5e27",
   "metadata": {
    "execution": {
     "iopub.execute_input": "2024-11-04T23:25:35.199882Z",
     "iopub.status.busy": "2024-11-04T23:25:35.199443Z",
     "iopub.status.idle": "2024-11-04T23:25:36.515146Z",
     "shell.execute_reply": "2024-11-04T23:25:36.514083Z"
    },
    "papermill": {
     "duration": 1.327817,
     "end_time": "2024-11-04T23:25:36.519060",
     "exception": false,
     "start_time": "2024-11-04T23:25:35.191243",
     "status": "completed"
    },
    "tags": []
   },
   "outputs": [
    {
     "data": {
      "text/html": [
       "<style>#sk-container-id-1 {color: black;background-color: white;}#sk-container-id-1 pre{padding: 0;}#sk-container-id-1 div.sk-toggleable {background-color: white;}#sk-container-id-1 label.sk-toggleable__label {cursor: pointer;display: block;width: 100%;margin-bottom: 0;padding: 0.3em;box-sizing: border-box;text-align: center;}#sk-container-id-1 label.sk-toggleable__label-arrow:before {content: \"▸\";float: left;margin-right: 0.25em;color: #696969;}#sk-container-id-1 label.sk-toggleable__label-arrow:hover:before {color: black;}#sk-container-id-1 div.sk-estimator:hover label.sk-toggleable__label-arrow:before {color: black;}#sk-container-id-1 div.sk-toggleable__content {max-height: 0;max-width: 0;overflow: hidden;text-align: left;background-color: #f0f8ff;}#sk-container-id-1 div.sk-toggleable__content pre {margin: 0.2em;color: black;border-radius: 0.25em;background-color: #f0f8ff;}#sk-container-id-1 input.sk-toggleable__control:checked~div.sk-toggleable__content {max-height: 200px;max-width: 100%;overflow: auto;}#sk-container-id-1 input.sk-toggleable__control:checked~label.sk-toggleable__label-arrow:before {content: \"▾\";}#sk-container-id-1 div.sk-estimator input.sk-toggleable__control:checked~label.sk-toggleable__label {background-color: #d4ebff;}#sk-container-id-1 div.sk-label input.sk-toggleable__control:checked~label.sk-toggleable__label {background-color: #d4ebff;}#sk-container-id-1 input.sk-hidden--visually {border: 0;clip: rect(1px 1px 1px 1px);clip: rect(1px, 1px, 1px, 1px);height: 1px;margin: -1px;overflow: hidden;padding: 0;position: absolute;width: 1px;}#sk-container-id-1 div.sk-estimator {font-family: monospace;background-color: #f0f8ff;border: 1px dotted black;border-radius: 0.25em;box-sizing: border-box;margin-bottom: 0.5em;}#sk-container-id-1 div.sk-estimator:hover {background-color: #d4ebff;}#sk-container-id-1 div.sk-parallel-item::after {content: \"\";width: 100%;border-bottom: 1px solid gray;flex-grow: 1;}#sk-container-id-1 div.sk-label:hover label.sk-toggleable__label {background-color: #d4ebff;}#sk-container-id-1 div.sk-serial::before {content: \"\";position: absolute;border-left: 1px solid gray;box-sizing: border-box;top: 0;bottom: 0;left: 50%;z-index: 0;}#sk-container-id-1 div.sk-serial {display: flex;flex-direction: column;align-items: center;background-color: white;padding-right: 0.2em;padding-left: 0.2em;position: relative;}#sk-container-id-1 div.sk-item {position: relative;z-index: 1;}#sk-container-id-1 div.sk-parallel {display: flex;align-items: stretch;justify-content: center;background-color: white;position: relative;}#sk-container-id-1 div.sk-item::before, #sk-container-id-1 div.sk-parallel-item::before {content: \"\";position: absolute;border-left: 1px solid gray;box-sizing: border-box;top: 0;bottom: 0;left: 50%;z-index: -1;}#sk-container-id-1 div.sk-parallel-item {display: flex;flex-direction: column;z-index: 1;position: relative;background-color: white;}#sk-container-id-1 div.sk-parallel-item:first-child::after {align-self: flex-end;width: 50%;}#sk-container-id-1 div.sk-parallel-item:last-child::after {align-self: flex-start;width: 50%;}#sk-container-id-1 div.sk-parallel-item:only-child::after {width: 0;}#sk-container-id-1 div.sk-dashed-wrapped {border: 1px dashed gray;margin: 0 0.4em 0.5em 0.4em;box-sizing: border-box;padding-bottom: 0.4em;background-color: white;}#sk-container-id-1 div.sk-label label {font-family: monospace;font-weight: bold;display: inline-block;line-height: 1.2em;}#sk-container-id-1 div.sk-label-container {text-align: center;}#sk-container-id-1 div.sk-container {/* jupyter's `normalize.less` sets `[hidden] { display: none; }` but bootstrap.min.css set `[hidden] { display: none !important; }` so we also need the `!important` here to be able to override the default hidden behavior on the sphinx rendered scikit-learn.org. See: https://github.com/scikit-learn/scikit-learn/issues/21755 */display: inline-block !important;position: relative;}#sk-container-id-1 div.sk-text-repr-fallback {display: none;}</style><div id=\"sk-container-id-1\" class=\"sk-top-container\"><div class=\"sk-text-repr-fallback\"><pre>RandomForestClassifier()</pre><b>In a Jupyter environment, please rerun this cell to show the HTML representation or trust the notebook. <br />On GitHub, the HTML representation is unable to render, please try loading this page with nbviewer.org.</b></div><div class=\"sk-container\" hidden><div class=\"sk-item\"><div class=\"sk-estimator sk-toggleable\"><input class=\"sk-toggleable__control sk-hidden--visually\" id=\"sk-estimator-id-1\" type=\"checkbox\" checked><label for=\"sk-estimator-id-1\" class=\"sk-toggleable__label sk-toggleable__label-arrow\">RandomForestClassifier</label><div class=\"sk-toggleable__content\"><pre>RandomForestClassifier()</pre></div></div></div></div></div>"
      ],
      "text/plain": [
       "RandomForestClassifier()"
      ]
     },
     "execution_count": 13,
     "metadata": {},
     "output_type": "execute_result"
    }
   ],
   "source": [
    "encoder = ce.OrdinalEncoder(cols=['PassengerId', 'HomePlanet', 'CryoSleep', 'Cabin', 'Destination', 'Age',\n",
    "       'VIP', 'RoomService', 'FoodCourt', 'ShoppingMall', 'Spa', 'VRDeck',\n",
    "       'Name'])\n",
    "\n",
    "X_train = encoder.fit_transform(X_train)\n",
    "X_test = encoder.fit_transform(X_test)\n",
    "model = RandomForestClassifier(n_estimators=100)\n",
    "model.fit(X_train,y_train)\n"
   ]
  },
  {
   "cell_type": "code",
   "execution_count": 14,
   "id": "954e631a",
   "metadata": {
    "execution": {
     "iopub.execute_input": "2024-11-04T23:25:36.542764Z",
     "iopub.status.busy": "2024-11-04T23:25:36.542300Z",
     "iopub.status.idle": "2024-11-04T23:25:36.604814Z",
     "shell.execute_reply": "2024-11-04T23:25:36.603652Z"
    },
    "papermill": {
     "duration": 0.075939,
     "end_time": "2024-11-04T23:25:36.607745",
     "exception": false,
     "start_time": "2024-11-04T23:25:36.531806",
     "status": "completed"
    },
    "tags": []
   },
   "outputs": [],
   "source": [
    "y_pred = model.predict(X_test)"
   ]
  },
  {
   "cell_type": "code",
   "execution_count": 15,
   "id": "c1e08156",
   "metadata": {
    "execution": {
     "iopub.execute_input": "2024-11-04T23:25:36.624790Z",
     "iopub.status.busy": "2024-11-04T23:25:36.623758Z",
     "iopub.status.idle": "2024-11-04T23:25:36.632078Z",
     "shell.execute_reply": "2024-11-04T23:25:36.630561Z"
    },
    "papermill": {
     "duration": 0.019752,
     "end_time": "2024-11-04T23:25:36.635117",
     "exception": false,
     "start_time": "2024-11-04T23:25:36.615365",
     "status": "completed"
    },
    "tags": []
   },
   "outputs": [
    {
     "name": "stdout",
     "output_type": "stream",
     "text": [
      "Model accuracy score with 100 decision-trees : 0.7178\n"
     ]
    }
   ],
   "source": [
    "from sklearn.metrics import accuracy_score\n",
    "\n",
    "print('Model accuracy score with 100 decision-trees : {0:0.4f}'. format(accuracy_score(y_test, y_pred)))"
   ]
  },
  {
   "cell_type": "code",
   "execution_count": 16,
   "id": "22fcaad4",
   "metadata": {
    "execution": {
     "iopub.execute_input": "2024-11-04T23:25:36.655285Z",
     "iopub.status.busy": "2024-11-04T23:25:36.653991Z",
     "iopub.status.idle": "2024-11-04T23:25:36.810683Z",
     "shell.execute_reply": "2024-11-04T23:25:36.809442Z"
    },
    "papermill": {
     "duration": 0.169007,
     "end_time": "2024-11-04T23:25:36.813454",
     "exception": false,
     "start_time": "2024-11-04T23:25:36.644447",
     "status": "completed"
    },
    "tags": []
   },
   "outputs": [],
   "source": [
    "test = pd.read_csv('/kaggle/input/spaceshiptest/test.csv')\n",
    "test_predict = encoder.fit_transform(test )"
   ]
  },
  {
   "cell_type": "code",
   "execution_count": 17,
   "id": "b3a9efb4",
   "metadata": {
    "execution": {
     "iopub.execute_input": "2024-11-04T23:25:36.830439Z",
     "iopub.status.busy": "2024-11-04T23:25:36.829992Z",
     "iopub.status.idle": "2024-11-04T23:25:36.913383Z",
     "shell.execute_reply": "2024-11-04T23:25:36.911775Z"
    },
    "papermill": {
     "duration": 0.095433,
     "end_time": "2024-11-04T23:25:36.916586",
     "exception": false,
     "start_time": "2024-11-04T23:25:36.821153",
     "status": "completed"
    },
    "tags": []
   },
   "outputs": [],
   "source": [
    "prediction = model.predict(test_predict)\n",
    "prediction = prediction.astype(bool)\n"
   ]
  },
  {
   "cell_type": "code",
   "execution_count": 18,
   "id": "4d2705b5",
   "metadata": {
    "execution": {
     "iopub.execute_input": "2024-11-04T23:25:36.933357Z",
     "iopub.status.busy": "2024-11-04T23:25:36.932955Z",
     "iopub.status.idle": "2024-11-04T23:25:36.939004Z",
     "shell.execute_reply": "2024-11-04T23:25:36.937788Z"
    },
    "papermill": {
     "duration": 0.017091,
     "end_time": "2024-11-04T23:25:36.941422",
     "exception": false,
     "start_time": "2024-11-04T23:25:36.924331",
     "status": "completed"
    },
    "tags": []
   },
   "outputs": [],
   "source": [
    "gender_submission = pd.DataFrame({'PassengerId':test['PassengerId'],'Transported':prediction})"
   ]
  },
  {
   "cell_type": "code",
   "execution_count": 19,
   "id": "a5f70a77",
   "metadata": {
    "execution": {
     "iopub.execute_input": "2024-11-04T23:25:36.958057Z",
     "iopub.status.busy": "2024-11-04T23:25:36.957619Z",
     "iopub.status.idle": "2024-11-04T23:25:36.971949Z",
     "shell.execute_reply": "2024-11-04T23:25:36.970829Z"
    },
    "papermill": {
     "duration": 0.025812,
     "end_time": "2024-11-04T23:25:36.974623",
     "exception": false,
     "start_time": "2024-11-04T23:25:36.948811",
     "status": "completed"
    },
    "tags": []
   },
   "outputs": [],
   "source": [
    "gender_submission.to_csv('./gender_submission_new_space_ship.csv',index=False)  "
   ]
  }
 ],
 "metadata": {
  "kaggle": {
   "accelerator": "none",
   "dataSources": [
    {
     "datasetId": 6004333,
     "sourceId": 9797464,
     "sourceType": "datasetVersion"
    },
    {
     "datasetId": 6011819,
     "sourceId": 9807571,
     "sourceType": "datasetVersion"
    }
   ],
   "dockerImageVersionId": 30786,
   "isGpuEnabled": false,
   "isInternetEnabled": false,
   "language": "python",
   "sourceType": "notebook"
  },
  "kernelspec": {
   "display_name": "Python 3",
   "language": "python",
   "name": "python3"
  },
  "language_info": {
   "codemirror_mode": {
    "name": "ipython",
    "version": 3
   },
   "file_extension": ".py",
   "mimetype": "text/x-python",
   "name": "python",
   "nbconvert_exporter": "python",
   "pygments_lexer": "ipython3",
   "version": "3.10.14"
  },
  "papermill": {
   "default_parameters": {},
   "duration": 9.434517,
   "end_time": "2024-11-04T23:25:37.603438",
   "environment_variables": {},
   "exception": null,
   "input_path": "__notebook__.ipynb",
   "output_path": "__notebook__.ipynb",
   "parameters": {},
   "start_time": "2024-11-04T23:25:28.168921",
   "version": "2.6.0"
  }
 },
 "nbformat": 4,
 "nbformat_minor": 5
}
