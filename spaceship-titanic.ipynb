{
 "cells": [
  {
   "cell_type": "code",
   "execution_count": 1,
   "id": "c974f221",
   "metadata": {
    "_cell_guid": "b1076dfc-b9ad-4769-8c92-a6c4dae69d19",
    "_uuid": "8f2839f25d086af736a60e9eeb907d3b93b6e0e5",
    "execution": {
     "iopub.execute_input": "2024-11-04T20:15:58.862629Z",
     "iopub.status.busy": "2024-11-04T20:15:58.862176Z",
     "iopub.status.idle": "2024-11-04T20:16:01.733774Z",
     "shell.execute_reply": "2024-11-04T20:16:01.732539Z"
    },
    "papermill": {
     "duration": 2.8801,
     "end_time": "2024-11-04T20:16:01.736392",
     "exception": false,
     "start_time": "2024-11-04T20:15:58.856292",
     "status": "completed"
    },
    "tags": []
   },
   "outputs": [],
   "source": [
    "import pandas as pd\n",
    "import numpy as np\n",
    "import matplotlib.pyplot as plt\n",
    "import seaborn as sns\n",
    "import statsmodels.formula.api as sm"
   ]
  },
  {
   "cell_type": "code",
   "execution_count": 2,
   "id": "cf58eb51",
   "metadata": {
    "execution": {
     "iopub.execute_input": "2024-11-04T20:16:01.746517Z",
     "iopub.status.busy": "2024-11-04T20:16:01.745637Z",
     "iopub.status.idle": "2024-11-04T20:16:01.812326Z",
     "shell.execute_reply": "2024-11-04T20:16:01.811276Z"
    },
    "papermill": {
     "duration": 0.0744,
     "end_time": "2024-11-04T20:16:01.814909",
     "exception": false,
     "start_time": "2024-11-04T20:16:01.740509",
     "status": "completed"
    },
    "tags": []
   },
   "outputs": [],
   "source": [
    "df = pd.read_csv('/kaggle/input/spaceshipt-df/train.csv')\n"
   ]
  },
  {
   "cell_type": "code",
   "execution_count": 3,
   "id": "27d75a06",
   "metadata": {
    "execution": {
     "iopub.execute_input": "2024-11-04T20:16:01.825342Z",
     "iopub.status.busy": "2024-11-04T20:16:01.824182Z",
     "iopub.status.idle": "2024-11-04T20:16:01.832918Z",
     "shell.execute_reply": "2024-11-04T20:16:01.831802Z"
    },
    "papermill": {
     "duration": 0.016061,
     "end_time": "2024-11-04T20:16:01.835081",
     "exception": false,
     "start_time": "2024-11-04T20:16:01.819020",
     "status": "completed"
    },
    "tags": []
   },
   "outputs": [
    {
     "data": {
      "text/plain": [
       "Index(['PassengerId', 'HomePlanet', 'CryoSleep', 'Cabin', 'Destination', 'Age',\n",
       "       'VIP', 'RoomService', 'FoodCourt', 'ShoppingMall', 'Spa', 'VRDeck',\n",
       "       'Name', 'Transported'],\n",
       "      dtype='object')"
      ]
     },
     "execution_count": 3,
     "metadata": {},
     "output_type": "execute_result"
    }
   ],
   "source": [
    "df.columns"
   ]
  },
  {
   "cell_type": "code",
   "execution_count": 4,
   "id": "8796f307",
   "metadata": {
    "execution": {
     "iopub.execute_input": "2024-11-04T20:16:01.844574Z",
     "iopub.status.busy": "2024-11-04T20:16:01.844192Z",
     "iopub.status.idle": "2024-11-04T20:16:01.861854Z",
     "shell.execute_reply": "2024-11-04T20:16:01.860904Z"
    },
    "papermill": {
     "duration": 0.025033,
     "end_time": "2024-11-04T20:16:01.864084",
     "exception": false,
     "start_time": "2024-11-04T20:16:01.839051",
     "status": "completed"
    },
    "tags": []
   },
   "outputs": [],
   "source": [
    "df = df[['PassengerId', 'HomePlanet', 'CryoSleep', 'Cabin', 'Destination', 'Age',\n",
    "       'VIP', #'RoomService', 'FoodCourt', 'ShoppingMall', 'Spa', 'VRDeck',\n",
    "       'Name', 'Transported']].copy()\\\n",
    ".reset_index(drop=True)"
   ]
  },
  {
   "cell_type": "code",
   "execution_count": 5,
   "id": "0d0f4d53",
   "metadata": {
    "execution": {
     "iopub.execute_input": "2024-11-04T20:16:01.874921Z",
     "iopub.status.busy": "2024-11-04T20:16:01.873899Z",
     "iopub.status.idle": "2024-11-04T20:16:01.893886Z",
     "shell.execute_reply": "2024-11-04T20:16:01.892842Z"
    },
    "papermill": {
     "duration": 0.028134,
     "end_time": "2024-11-04T20:16:01.896396",
     "exception": false,
     "start_time": "2024-11-04T20:16:01.868262",
     "status": "completed"
    },
    "tags": []
   },
   "outputs": [
    {
     "name": "stderr",
     "output_type": "stream",
     "text": [
      "/tmp/ipykernel_17/4262496849.py:7: FutureWarning: Downcasting behavior in `replace` is deprecated and will be removed in a future version. To retain the old behavior, explicitly call `result.infer_objects(copy=False)`. To opt-in to the future behavior, set `pd.set_option('future.no_silent_downcasting', True)`\n",
      "  df['HomePlanet']=df['HomePlanet'].replace('Earth',2).replace('Europa',1).replace('Mars',0).copy()\n"
     ]
    }
   ],
   "source": [
    "df.groupby('HomePlanet').size()\n",
    "# Replace Na Values with the mode of the planets\n",
    "planets_mode = df['HomePlanet'].mode(dropna=True)[0]\n",
    "df['HomePlanet'] = df['HomePlanet'].fillna(planets_mode).copy()\n",
    "\n",
    "# Replacing Planets where Earth equals 2, Europa equals 1 and Mars equals 0\n",
    "df['HomePlanet']=df['HomePlanet'].replace('Earth',2).replace('Europa',1).replace('Mars',0).copy()\n",
    "\n"
   ]
  },
  {
   "cell_type": "code",
   "execution_count": 6,
   "id": "d04247fd",
   "metadata": {
    "execution": {
     "iopub.execute_input": "2024-11-04T20:16:01.906061Z",
     "iopub.status.busy": "2024-11-04T20:16:01.905702Z",
     "iopub.status.idle": "2024-11-04T20:16:01.914580Z",
     "shell.execute_reply": "2024-11-04T20:16:01.913358Z"
    },
    "papermill": {
     "duration": 0.016582,
     "end_time": "2024-11-04T20:16:01.917051",
     "exception": false,
     "start_time": "2024-11-04T20:16:01.900469",
     "status": "completed"
    },
    "tags": []
   },
   "outputs": [
    {
     "name": "stderr",
     "output_type": "stream",
     "text": [
      "/tmp/ipykernel_17/3772733588.py:2: FutureWarning: Downcasting object dtype arrays on .fillna, .ffill, .bfill is deprecated and will change in a future version. Call result.infer_objects(copy=False) instead. To opt-in to the future behavior, set `pd.set_option('future.no_silent_downcasting', True)`\n",
      "  df['CryoSleep'] = df['CryoSleep'].fillna(cryosleep_mode).copy()\n"
     ]
    }
   ],
   "source": [
    "cryosleep_mode = df['CryoSleep'].mode(dropna=True)[0]\n",
    "df['CryoSleep'] = df['CryoSleep'].fillna(cryosleep_mode).copy()\n"
   ]
  },
  {
   "cell_type": "code",
   "execution_count": 7,
   "id": "b223e80b",
   "metadata": {
    "execution": {
     "iopub.execute_input": "2024-11-04T20:16:01.928088Z",
     "iopub.status.busy": "2024-11-04T20:16:01.927077Z",
     "iopub.status.idle": "2024-11-04T20:16:01.935305Z",
     "shell.execute_reply": "2024-11-04T20:16:01.934248Z"
    },
    "papermill": {
     "duration": 0.015952,
     "end_time": "2024-11-04T20:16:01.937526",
     "exception": false,
     "start_time": "2024-11-04T20:16:01.921574",
     "status": "completed"
    },
    "tags": []
   },
   "outputs": [],
   "source": [
    "# Replacing na values from destination with mode of it!\n",
    "destination_mode = df['Destination'].mode(dropna=True)[0]\n",
    "df['Destination'] = df['Destination'].fillna(destination_mode).copy()\n",
    "\n"
   ]
  },
  {
   "cell_type": "code",
   "execution_count": 8,
   "id": "7c80276b",
   "metadata": {
    "execution": {
     "iopub.execute_input": "2024-11-04T20:16:01.947802Z",
     "iopub.status.busy": "2024-11-04T20:16:01.947383Z",
     "iopub.status.idle": "2024-11-04T20:16:01.960998Z",
     "shell.execute_reply": "2024-11-04T20:16:01.959806Z"
    },
    "papermill": {
     "duration": 0.021291,
     "end_time": "2024-11-04T20:16:01.963193",
     "exception": false,
     "start_time": "2024-11-04T20:16:01.941902",
     "status": "completed"
    },
    "tags": []
   },
   "outputs": [
    {
     "name": "stderr",
     "output_type": "stream",
     "text": [
      "/tmp/ipykernel_17/771644961.py:4: FutureWarning: Downcasting behavior in `replace` is deprecated and will be removed in a future version. To retain the old behavior, explicitly call `result.infer_objects(copy=False)`. To opt-in to the future behavior, set `pd.set_option('future.no_silent_downcasting', True)`\n",
      "  .replace('TRAPPIST-1e',0)\\\n"
     ]
    }
   ],
   "source": [
    "#Replacing the values from Destination to numbers\n",
    "df['Destination'] = df['Destination'].replace('55 Cancri e',2)\\\n",
    ".replace('PSO J318.5-22',1)\\\n",
    ".replace('TRAPPIST-1e',0)\\\n",
    ".copy()\n",
    "\n"
   ]
  },
  {
   "cell_type": "code",
   "execution_count": 9,
   "id": "f6fc1d45",
   "metadata": {
    "execution": {
     "iopub.execute_input": "2024-11-04T20:16:01.973234Z",
     "iopub.status.busy": "2024-11-04T20:16:01.972834Z",
     "iopub.status.idle": "2024-11-04T20:16:01.979173Z",
     "shell.execute_reply": "2024-11-04T20:16:01.978237Z"
    },
    "papermill": {
     "duration": 0.013824,
     "end_time": "2024-11-04T20:16:01.981240",
     "exception": false,
     "start_time": "2024-11-04T20:16:01.967416",
     "status": "completed"
    },
    "tags": []
   },
   "outputs": [],
   "source": [
    "# Replacing Na values from age by it`s mean\n",
    "age_mean = round(df['Age'].mean(skipna=True))\n",
    "df['Age'] = df['Age'].fillna(age_mean).copy()"
   ]
  },
  {
   "cell_type": "code",
   "execution_count": 10,
   "id": "152bfddc",
   "metadata": {
    "execution": {
     "iopub.execute_input": "2024-11-04T20:16:01.992295Z",
     "iopub.status.busy": "2024-11-04T20:16:01.991881Z",
     "iopub.status.idle": "2024-11-04T20:16:02.005582Z",
     "shell.execute_reply": "2024-11-04T20:16:02.004434Z"
    },
    "papermill": {
     "duration": 0.021691,
     "end_time": "2024-11-04T20:16:02.008150",
     "exception": false,
     "start_time": "2024-11-04T20:16:01.986459",
     "status": "completed"
    },
    "tags": []
   },
   "outputs": [],
   "source": [
    "#Removing VIP , Cabin and NAME rows witha na values\n",
    "df = df.dropna(subset=['VIP','Cabin','Name']).copy().reset_index(drop=True)\n"
   ]
  },
  {
   "cell_type": "code",
   "execution_count": 11,
   "id": "d3e0acac",
   "metadata": {
    "execution": {
     "iopub.execute_input": "2024-11-04T20:16:02.019052Z",
     "iopub.status.busy": "2024-11-04T20:16:02.017963Z",
     "iopub.status.idle": "2024-11-04T20:16:02.024468Z",
     "shell.execute_reply": "2024-11-04T20:16:02.023433Z"
    },
    "papermill": {
     "duration": 0.014022,
     "end_time": "2024-11-04T20:16:02.026510",
     "exception": false,
     "start_time": "2024-11-04T20:16:02.012488",
     "status": "completed"
    },
    "tags": []
   },
   "outputs": [],
   "source": [
    "df['Transported'] = df['Transported'].astype(int)\n",
    "df['CryoSleep'] = df['CryoSleep'].astype(int)"
   ]
  },
  {
   "cell_type": "code",
   "execution_count": 12,
   "id": "0b59d16a",
   "metadata": {
    "execution": {
     "iopub.execute_input": "2024-11-04T20:16:02.036498Z",
     "iopub.status.busy": "2024-11-04T20:16:02.036071Z",
     "iopub.status.idle": "2024-11-04T20:16:02.055058Z",
     "shell.execute_reply": "2024-11-04T20:16:02.053813Z"
    },
    "papermill": {
     "duration": 0.026688,
     "end_time": "2024-11-04T20:16:02.057430",
     "exception": false,
     "start_time": "2024-11-04T20:16:02.030742",
     "status": "completed"
    },
    "tags": []
   },
   "outputs": [
    {
     "data": {
      "text/html": [
       "<div>\n",
       "<style scoped>\n",
       "    .dataframe tbody tr th:only-of-type {\n",
       "        vertical-align: middle;\n",
       "    }\n",
       "\n",
       "    .dataframe tbody tr th {\n",
       "        vertical-align: top;\n",
       "    }\n",
       "\n",
       "    .dataframe thead th {\n",
       "        text-align: right;\n",
       "    }\n",
       "</style>\n",
       "<table border=\"1\" class=\"dataframe\">\n",
       "  <thead>\n",
       "    <tr style=\"text-align: right;\">\n",
       "      <th></th>\n",
       "      <th>PassengerId</th>\n",
       "      <th>HomePlanet</th>\n",
       "      <th>CryoSleep</th>\n",
       "      <th>Cabin</th>\n",
       "      <th>Destination</th>\n",
       "      <th>Age</th>\n",
       "      <th>VIP</th>\n",
       "      <th>Name</th>\n",
       "      <th>Transported</th>\n",
       "    </tr>\n",
       "  </thead>\n",
       "  <tbody>\n",
       "    <tr>\n",
       "      <th>0</th>\n",
       "      <td>0001_01</td>\n",
       "      <td>1</td>\n",
       "      <td>0</td>\n",
       "      <td>B/0/P</td>\n",
       "      <td>0</td>\n",
       "      <td>39.0</td>\n",
       "      <td>False</td>\n",
       "      <td>Maham Ofracculy</td>\n",
       "      <td>0</td>\n",
       "    </tr>\n",
       "    <tr>\n",
       "      <th>1</th>\n",
       "      <td>0002_01</td>\n",
       "      <td>2</td>\n",
       "      <td>0</td>\n",
       "      <td>F/0/S</td>\n",
       "      <td>0</td>\n",
       "      <td>24.0</td>\n",
       "      <td>False</td>\n",
       "      <td>Juanna Vines</td>\n",
       "      <td>1</td>\n",
       "    </tr>\n",
       "    <tr>\n",
       "      <th>2</th>\n",
       "      <td>0003_01</td>\n",
       "      <td>1</td>\n",
       "      <td>0</td>\n",
       "      <td>A/0/S</td>\n",
       "      <td>0</td>\n",
       "      <td>58.0</td>\n",
       "      <td>True</td>\n",
       "      <td>Altark Susent</td>\n",
       "      <td>0</td>\n",
       "    </tr>\n",
       "    <tr>\n",
       "      <th>3</th>\n",
       "      <td>0003_02</td>\n",
       "      <td>1</td>\n",
       "      <td>0</td>\n",
       "      <td>A/0/S</td>\n",
       "      <td>0</td>\n",
       "      <td>33.0</td>\n",
       "      <td>False</td>\n",
       "      <td>Solam Susent</td>\n",
       "      <td>0</td>\n",
       "    </tr>\n",
       "    <tr>\n",
       "      <th>4</th>\n",
       "      <td>0004_01</td>\n",
       "      <td>2</td>\n",
       "      <td>0</td>\n",
       "      <td>F/1/S</td>\n",
       "      <td>0</td>\n",
       "      <td>16.0</td>\n",
       "      <td>False</td>\n",
       "      <td>Willy Santantines</td>\n",
       "      <td>1</td>\n",
       "    </tr>\n",
       "  </tbody>\n",
       "</table>\n",
       "</div>"
      ],
      "text/plain": [
       "  PassengerId  HomePlanet  CryoSleep  Cabin  Destination   Age    VIP  \\\n",
       "0     0001_01           1          0  B/0/P            0  39.0  False   \n",
       "1     0002_01           2          0  F/0/S            0  24.0  False   \n",
       "2     0003_01           1          0  A/0/S            0  58.0   True   \n",
       "3     0003_02           1          0  A/0/S            0  33.0  False   \n",
       "4     0004_01           2          0  F/1/S            0  16.0  False   \n",
       "\n",
       "                Name  Transported  \n",
       "0    Maham Ofracculy            0  \n",
       "1       Juanna Vines            1  \n",
       "2      Altark Susent            0  \n",
       "3       Solam Susent            0  \n",
       "4  Willy Santantines            1  "
      ]
     },
     "execution_count": 12,
     "metadata": {},
     "output_type": "execute_result"
    }
   ],
   "source": [
    "df.head()"
   ]
  },
  {
   "cell_type": "code",
   "execution_count": 13,
   "id": "d3ea9eb4",
   "metadata": {
    "execution": {
     "iopub.execute_input": "2024-11-04T20:16:02.068977Z",
     "iopub.status.busy": "2024-11-04T20:16:02.068028Z",
     "iopub.status.idle": "2024-11-04T20:16:02.522704Z",
     "shell.execute_reply": "2024-11-04T20:16:02.521588Z"
    },
    "papermill": {
     "duration": 0.46303,
     "end_time": "2024-11-04T20:16:02.525393",
     "exception": false,
     "start_time": "2024-11-04T20:16:02.062363",
     "status": "completed"
    },
    "tags": []
   },
   "outputs": [
    {
     "data": {
      "text/plain": [
       "<Axes: >"
      ]
     },
     "execution_count": 13,
     "metadata": {},
     "output_type": "execute_result"
    },
    {
     "data": {
      "image/png": "[encoded data removed]",
      "text/plain": [
       "<Figure size 640x480 with 2 Axes>"
      ]
     },
     "metadata": {},
     "output_type": "display_data"
    }
   ],
   "source": [
    "sns.heatmap(df[['HomePlanet', 'CryoSleep', 'Destination', 'Age',\n",
    "       'VIP',  'Transported']].corr(),annot=True)"
   ]
  },
  {
   "cell_type": "code",
   "execution_count": 14,
   "id": "75106c77",
   "metadata": {
    "execution": {
     "iopub.execute_input": "2024-11-04T20:16:02.538198Z",
     "iopub.status.busy": "2024-11-04T20:16:02.537422Z",
     "iopub.status.idle": "2024-11-04T20:16:02.615945Z",
     "shell.execute_reply": "2024-11-04T20:16:02.614781Z"
    },
    "papermill": {
     "duration": 0.088293,
     "end_time": "2024-11-04T20:16:02.618974",
     "exception": false,
     "start_time": "2024-11-04T20:16:02.530681",
     "status": "completed"
    },
    "tags": []
   },
   "outputs": [
    {
     "data": {
      "text/html": [
       "<table class=\"simpletable\">\n",
       "<caption>OLS Regression Results</caption>\n",
       "<tr>\n",
       "  <th>Dep. Variable:</th>       <td>Transported</td>   <th>  R-squared:         </th> <td>   0.215</td>\n",
       "</tr>\n",
       "<tr>\n",
       "  <th>Model:</th>                   <td>OLS</td>       <th>  Adj. R-squared:    </th> <td>   0.215</td>\n",
       "</tr>\n",
       "<tr>\n",
       "  <th>Method:</th>             <td>Least Squares</td>  <th>  F-statistic:       </th> <td>   2215.</td>\n",
       "</tr>\n",
       "<tr>\n",
       "  <th>Date:</th>             <td>Mon, 04 Nov 2024</td> <th>  Prob (F-statistic):</th>  <td>  0.00</td> \n",
       "</tr>\n",
       "<tr>\n",
       "  <th>Time:</th>                 <td>20:16:02</td>     <th>  Log-Likelihood:    </th> <td> -4899.6</td>\n",
       "</tr>\n",
       "<tr>\n",
       "  <th>No. Observations:</th>      <td>  8100</td>      <th>  AIC:               </th> <td>   9803.</td>\n",
       "</tr>\n",
       "<tr>\n",
       "  <th>Df Residuals:</th>          <td>  8098</td>      <th>  BIC:               </th> <td>   9817.</td>\n",
       "</tr>\n",
       "<tr>\n",
       "  <th>Df Model:</th>              <td>     1</td>      <th>                     </th>     <td> </td>   \n",
       "</tr>\n",
       "<tr>\n",
       "  <th>Covariance Type:</th>      <td>nonrobust</td>    <th>                     </th>     <td> </td>   \n",
       "</tr>\n",
       "</table>\n",
       "<table class=\"simpletable\">\n",
       "<tr>\n",
       "      <td></td>         <th>coef</th>     <th>std err</th>      <th>t</th>      <th>P>|t|</th>  <th>[0.025</th>    <th>0.975]</th>  \n",
       "</tr>\n",
       "<tr>\n",
       "  <th>Intercept</th> <td>    0.3340</td> <td>    0.006</td> <td>   54.775</td> <td> 0.000</td> <td>    0.322</td> <td>    0.346</td>\n",
       "</tr>\n",
       "<tr>\n",
       "  <th>CryoSleep</th> <td>    0.4865</td> <td>    0.010</td> <td>   47.062</td> <td> 0.000</td> <td>    0.466</td> <td>    0.507</td>\n",
       "</tr>\n",
       "</table>\n",
       "<table class=\"simpletable\">\n",
       "<tr>\n",
       "  <th>Omnibus:</th>       <td>1941.100</td> <th>  Durbin-Watson:     </th> <td>   1.939</td>\n",
       "</tr>\n",
       "<tr>\n",
       "  <th>Prob(Omnibus):</th>  <td> 0.000</td>  <th>  Jarque-Bera (JB):  </th> <td> 383.047</td>\n",
       "</tr>\n",
       "<tr>\n",
       "  <th>Skew:</th>           <td> 0.176</td>  <th>  Prob(JB):          </th> <td>6.64e-84</td>\n",
       "</tr>\n",
       "<tr>\n",
       "  <th>Kurtosis:</th>       <td> 1.995</td>  <th>  Cond. No.          </th> <td>    2.42</td>\n",
       "</tr>\n",
       "</table><br/><br/>Notes:<br/>[1] Standard Errors assume that the covariance matrix of the errors is correctly specified."
      ],
      "text/latex": [
       "\\begin{center}\n",
       "\\begin{tabular}{lclc}\n",
       "\\toprule\n",
       "\\textbf{Dep. Variable:}    &   Transported    & \\textbf{  R-squared:         } &     0.215   \\\\\n",
       "\\textbf{Model:}            &       OLS        & \\textbf{  Adj. R-squared:    } &     0.215   \\\\\n",
       "\\textbf{Method:}           &  Least Squares   & \\textbf{  F-statistic:       } &     2215.   \\\\\n",
       "\\textbf{Date:}             & Mon, 04 Nov 2024 & \\textbf{  Prob (F-statistic):} &     0.00    \\\\\n",
       "\\textbf{Time:}             &     20:16:02     & \\textbf{  Log-Likelihood:    } &   -4899.6   \\\\\n",
       "\\textbf{No. Observations:} &        8100      & \\textbf{  AIC:               } &     9803.   \\\\\n",
       "\\textbf{Df Residuals:}     &        8098      & \\textbf{  BIC:               } &     9817.   \\\\\n",
       "\\textbf{Df Model:}         &           1      & \\textbf{                     } &             \\\\\n",
       "\\textbf{Covariance Type:}  &    nonrobust     & \\textbf{                     } &             \\\\\n",
       "\\bottomrule\n",
       "\\end{tabular}\n",
       "\\begin{tabular}{lcccccc}\n",
       "                   & \\textbf{coef} & \\textbf{std err} & \\textbf{t} & \\textbf{P$> |$t$|$} & \\textbf{[0.025} & \\textbf{0.975]}  \\\\\n",
       "\\midrule\n",
       "\\textbf{Intercept} &       0.3340  &        0.006     &    54.775  &         0.000        &        0.322    &        0.346     \\\\\n",
       "\\textbf{CryoSleep} &       0.4865  &        0.010     &    47.062  &         0.000        &        0.466    &        0.507     \\\\\n",
       "\\bottomrule\n",
       "\\end{tabular}\n",
       "\\begin{tabular}{lclc}\n",
       "\\textbf{Omnibus:}       & 1941.100 & \\textbf{  Durbin-Watson:     } &    1.939  \\\\\n",
       "\\textbf{Prob(Omnibus):} &   0.000  & \\textbf{  Jarque-Bera (JB):  } &  383.047  \\\\\n",
       "\\textbf{Skew:}          &   0.176  & \\textbf{  Prob(JB):          } & 6.64e-84  \\\\\n",
       "\\textbf{Kurtosis:}      &   1.995  & \\textbf{  Cond. No.          } &     2.42  \\\\\n",
       "\\bottomrule\n",
       "\\end{tabular}\n",
       "%\\caption{OLS Regression Results}\n",
       "\\end{center}\n",
       "\n",
       "Notes: \\newline\n",
       " [1] Standard Errors assume that the covariance matrix of the errors is correctly specified."
      ],
      "text/plain": [
       "<class 'statsmodels.iolib.summary.Summary'>\n",
       "\"\"\"\n",
       "                            OLS Regression Results                            \n",
       "==============================================================================\n",
       "Dep. Variable:            Transported   R-squared:                       0.215\n",
       "Model:                            OLS   Adj. R-squared:                  0.215\n",
       "Method:                 Least Squares   F-statistic:                     2215.\n",
       "Date:                Mon, 04 Nov 2024   Prob (F-statistic):               0.00\n",
       "Time:                        20:16:02   Log-Likelihood:                -4899.6\n",
       "No. Observations:                8100   AIC:                             9803.\n",
       "Df Residuals:                    8098   BIC:                             9817.\n",
       "Df Model:                           1                                         \n",
       "Covariance Type:            nonrobust                                         \n",
       "==============================================================================\n",
       "                 coef    std err          t      P>|t|      [0.025      0.975]\n",
       "------------------------------------------------------------------------------\n",
       "Intercept      0.3340      0.006     54.775      0.000       0.322       0.346\n",
       "CryoSleep      0.4865      0.010     47.062      0.000       0.466       0.507\n",
       "==============================================================================\n",
       "Omnibus:                     1941.100   Durbin-Watson:                   1.939\n",
       "Prob(Omnibus):                  0.000   Jarque-Bera (JB):              383.047\n",
       "Skew:                           0.176   Prob(JB):                     6.64e-84\n",
       "Kurtosis:                       1.995   Cond. No.                         2.42\n",
       "==============================================================================\n",
       "\n",
       "Notes:\n",
       "[1] Standard Errors assume that the covariance matrix of the errors is correctly specified.\n",
       "\"\"\""
      ]
     },
     "execution_count": 14,
     "metadata": {},
     "output_type": "execute_result"
    }
   ],
   "source": [
    "model = sm.ols(formula='Transported ~ CryoSleep',data = df)\n",
    "model = model.fit()\n",
    "model.summary()"
   ]
  }
 ],
 "metadata": {
  "kaggle": {
   "accelerator": "none",
   "dataSources": [
    {
     "datasetId": 6004333,
     "sourceId": 9797464,
     "sourceType": "datasetVersion"
    }
   ],
   "dockerImageVersionId": 30786,
   "isGpuEnabled": false,
   "isInternetEnabled": false,
   "language": "python",
   "sourceType": "notebook"
  },
  "kernelspec": {
   "display_name": "Python 3",
   "language": "python",
   "name": "python3"
  },
  "language_info": {
   "codemirror_mode": {
    "name": "ipython",
    "version": 3
   },
   "file_extension": ".py",
   "mimetype": "text/x-python",
   "name": "python",
   "nbconvert_exporter": "python",
   "pygments_lexer": "ipython3",
   "version": "3.10.14"
  },
  "papermill": {
   "default_parameters": {},
   "duration": 7.038886,
   "end_time": "2024-11-04T20:16:03.255466",
   "environment_variables": {},
   "exception": null,
   "input_path": "__notebook__.ipynb",
   "output_path": "__notebook__.ipynb",
   "parameters": {},
   "start_time": "2024-11-04T20:15:56.216580",
   "version": "2.6.0"
  }
 },
 "nbformat": 4,
 "nbformat_minor": 5
}
