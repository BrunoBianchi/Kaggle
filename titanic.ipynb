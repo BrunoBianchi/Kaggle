{
 "cells": [
  {
   "cell_type": "code",
   "execution_count": 1,
   "id": "d1d625e3",
   "metadata": {
    "_cell_guid": "b1076dfc-b9ad-4769-8c92-a6c4dae69d19",
    "_uuid": "8f2839f25d086af736a60e9eeb907d3b93b6e0e5",
    "execution": {
     "iopub.execute_input": "2024-11-04T20:17:40.347974Z",
     "iopub.status.busy": "2024-11-04T20:17:40.346640Z",
     "iopub.status.idle": "2024-11-04T20:17:43.319379Z",
     "shell.execute_reply": "2024-11-04T20:17:43.317912Z"
    },
    "papermill": {
     "duration": 2.984203,
     "end_time": "2024-11-04T20:17:43.322333",
     "exception": false,
     "start_time": "2024-11-04T20:17:40.338130",
     "status": "completed"
    },
    "tags": []
   },
   "outputs": [],
   "source": [
    "import pandas as pd\n",
    "import numpy as np\n",
    "import seaborn as sns\n",
    "import matplotlib.pylab as plt\n",
    "import statsmodels.formula.api as sm\n",
    "plt.style.use('ggplot')\t"
   ]
  },
  {
   "cell_type": "code",
   "execution_count": 2,
   "id": "32c24c22",
   "metadata": {
    "execution": {
     "iopub.execute_input": "2024-11-04T20:17:43.332662Z",
     "iopub.status.busy": "2024-11-04T20:17:43.332056Z",
     "iopub.status.idle": "2024-11-04T20:17:43.356073Z",
     "shell.execute_reply": "2024-11-04T20:17:43.354720Z"
    },
    "papermill": {
     "duration": 0.032523,
     "end_time": "2024-11-04T20:17:43.359253",
     "exception": false,
     "start_time": "2024-11-04T20:17:43.326730",
     "status": "completed"
    },
    "tags": []
   },
   "outputs": [],
   "source": [
    "df = pd.read_csv('/kaggle/input/titanic-dataset/train.csv')"
   ]
  },
  {
   "cell_type": "code",
   "execution_count": 3,
   "id": "8d94ed61",
   "metadata": {
    "execution": {
     "iopub.execute_input": "2024-11-04T20:17:43.370288Z",
     "iopub.status.busy": "2024-11-04T20:17:43.369852Z",
     "iopub.status.idle": "2024-11-04T20:17:43.378573Z",
     "shell.execute_reply": "2024-11-04T20:17:43.377519Z"
    },
    "papermill": {
     "duration": 0.016856,
     "end_time": "2024-11-04T20:17:43.381266",
     "exception": false,
     "start_time": "2024-11-04T20:17:43.364410",
     "status": "completed"
    },
    "tags": []
   },
   "outputs": [
    {
     "data": {
      "text/plain": [
       "Index(['PassengerId', 'Survived', 'Pclass', 'Name', 'Sex', 'Age', 'SibSp',\n",
       "       'Parch', 'Ticket', 'Fare', 'Cabin', 'Embarked'],\n",
       "      dtype='object')"
      ]
     },
     "execution_count": 3,
     "metadata": {},
     "output_type": "execute_result"
    }
   ],
   "source": [
    "\n",
    "df.columns\n"
   ]
  },
  {
   "cell_type": "code",
   "execution_count": 4,
   "id": "0f989e13",
   "metadata": {
    "execution": {
     "iopub.execute_input": "2024-11-04T20:17:43.391061Z",
     "iopub.status.busy": "2024-11-04T20:17:43.390634Z",
     "iopub.status.idle": "2024-11-04T20:17:43.407559Z",
     "shell.execute_reply": "2024-11-04T20:17:43.406404Z"
    },
    "papermill": {
     "duration": 0.024572,
     "end_time": "2024-11-04T20:17:43.409943",
     "exception": false,
     "start_time": "2024-11-04T20:17:43.385371",
     "status": "completed"
    },
    "tags": []
   },
   "outputs": [],
   "source": [
    "df = df[['PassengerId', 'Survived', 'Pclass', 'Name', 'Sex', 'Age', \n",
    "         #'SibSp',\n",
    "       #'Parch', #'Ticket',\n",
    "         'Fare', #'Cabin', \n",
    "         'Embarked']].copy()"
   ]
  },
  {
   "cell_type": "code",
   "execution_count": 5,
   "id": "e492e470",
   "metadata": {
    "execution": {
     "iopub.execute_input": "2024-11-04T20:17:43.420838Z",
     "iopub.status.busy": "2024-11-04T20:17:43.419461Z",
     "iopub.status.idle": "2024-11-04T20:17:43.427976Z",
     "shell.execute_reply": "2024-11-04T20:17:43.426826Z"
    },
    "papermill": {
     "duration": 0.016505,
     "end_time": "2024-11-04T20:17:43.430636",
     "exception": false,
     "start_time": "2024-11-04T20:17:43.414131",
     "status": "completed"
    },
    "tags": []
   },
   "outputs": [
    {
     "name": "stderr",
     "output_type": "stream",
     "text": [
      "/tmp/ipykernel_18/3604086492.py:2: FutureWarning: Downcasting behavior in `replace` is deprecated and will be removed in a future version. To retain the old behavior, explicitly call `result.infer_objects(copy=False)`. To opt-in to the future behavior, set `pd.set_option('future.no_silent_downcasting', True)`\n",
      "  df['Sex'] =  df['Sex'].replace('female',0).replace('male',1)\n"
     ]
    }
   ],
   "source": [
    "# Converting Female to 0 and Male to 1\n",
    "df['Sex'] =  df['Sex'].replace('female',0).replace('male',1)"
   ]
  },
  {
   "cell_type": "code",
   "execution_count": 6,
   "id": "a00e583a",
   "metadata": {
    "execution": {
     "iopub.execute_input": "2024-11-04T20:17:43.440634Z",
     "iopub.status.busy": "2024-11-04T20:17:43.440188Z",
     "iopub.status.idle": "2024-11-04T20:17:43.448619Z",
     "shell.execute_reply": "2024-11-04T20:17:43.447301Z"
    },
    "papermill": {
     "duration": 0.016208,
     "end_time": "2024-11-04T20:17:43.450943",
     "exception": false,
     "start_time": "2024-11-04T20:17:43.434735",
     "status": "completed"
    },
    "tags": []
   },
   "outputs": [
    {
     "name": "stderr",
     "output_type": "stream",
     "text": [
      "/tmp/ipykernel_18/24821410.py:2: FutureWarning: Downcasting behavior in `replace` is deprecated and will be removed in a future version. To retain the old behavior, explicitly call `result.infer_objects(copy=False)`. To opt-in to the future behavior, set `pd.set_option('future.no_silent_downcasting', True)`\n",
      "  df['Embarked']= df['Embarked'].replace('S',2).replace('C',1).replace('Q',0)\n"
     ]
    }
   ],
   "source": [
    "# Converting Embarked to int where S = 2, C = 1 and Q = 0\n",
    "df['Embarked']= df['Embarked'].replace('S',2).replace('C',1).replace('Q',0)\n"
   ]
  },
  {
   "cell_type": "code",
   "execution_count": 7,
   "id": "5d241aea",
   "metadata": {
    "execution": {
     "iopub.execute_input": "2024-11-04T20:17:43.460951Z",
     "iopub.status.busy": "2024-11-04T20:17:43.460544Z",
     "iopub.status.idle": "2024-11-04T20:17:43.473113Z",
     "shell.execute_reply": "2024-11-04T20:17:43.471428Z"
    },
    "papermill": {
     "duration": 0.021067,
     "end_time": "2024-11-04T20:17:43.476147",
     "exception": false,
     "start_time": "2024-11-04T20:17:43.455080",
     "status": "completed"
    },
    "tags": []
   },
   "outputs": [],
   "source": [
    "df['Age'] = df['Age'].fillna(df['Age'].mean(skipna=True))\n",
    "df['Embarked'] = df['Embarked'].fillna(df['Embarked'].mode()[0])"
   ]
  },
  {
   "cell_type": "code",
   "execution_count": 8,
   "id": "2d15be0a",
   "metadata": {
    "execution": {
     "iopub.execute_input": "2024-11-04T20:17:43.486275Z",
     "iopub.status.busy": "2024-11-04T20:17:43.485779Z",
     "iopub.status.idle": "2024-11-04T20:17:43.990428Z",
     "shell.execute_reply": "2024-11-04T20:17:43.988802Z"
    },
    "papermill": {
     "duration": 0.513761,
     "end_time": "2024-11-04T20:17:43.994115",
     "exception": false,
     "start_time": "2024-11-04T20:17:43.480354",
     "status": "completed"
    },
    "tags": []
   },
   "outputs": [
    {
     "data": {
      "text/plain": [
       "<Axes: >"
      ]
     },
     "execution_count": 8,
     "metadata": {},
     "output_type": "execute_result"
    },
    {
     "data": {
      "image/png": "[encoded data removed]",
      "text/plain": [
       "<Figure size 640x480 with 2 Axes>"
      ]
     },
     "metadata": {},
     "output_type": "display_data"
    }
   ],
   "source": [
    "sns.heatmap(df[['Survived','Pclass','Sex','Age','Fare','Embarked']].dropna().corr(),annot=True)"
   ]
  },
  {
   "cell_type": "code",
   "execution_count": 9,
   "id": "8fa87f71",
   "metadata": {
    "execution": {
     "iopub.execute_input": "2024-11-04T20:17:44.007430Z",
     "iopub.status.busy": "2024-11-04T20:17:44.006973Z",
     "iopub.status.idle": "2024-11-04T20:17:44.078122Z",
     "shell.execute_reply": "2024-11-04T20:17:44.076915Z"
    },
    "papermill": {
     "duration": 0.080589,
     "end_time": "2024-11-04T20:17:44.080600",
     "exception": false,
     "start_time": "2024-11-04T20:17:44.000011",
     "status": "completed"
    },
    "tags": []
   },
   "outputs": [
    {
     "data": {
      "text/html": [
       "<table class=\"simpletable\">\n",
       "<caption>OLS Regression Results</caption>\n",
       "<tr>\n",
       "  <th>Dep. Variable:</th>        <td>Survived</td>     <th>  R-squared:         </th> <td>   0.295</td>\n",
       "</tr>\n",
       "<tr>\n",
       "  <th>Model:</th>                   <td>OLS</td>       <th>  Adj. R-squared:    </th> <td>   0.294</td>\n",
       "</tr>\n",
       "<tr>\n",
       "  <th>Method:</th>             <td>Least Squares</td>  <th>  F-statistic:       </th> <td>   372.4</td>\n",
       "</tr>\n",
       "<tr>\n",
       "  <th>Date:</th>             <td>Mon, 04 Nov 2024</td> <th>  Prob (F-statistic):</th> <td>1.41e-69</td>\n",
       "</tr>\n",
       "<tr>\n",
       "  <th>Time:</th>                 <td>20:17:44</td>     <th>  Log-Likelihood:    </th> <td> -466.09</td>\n",
       "</tr>\n",
       "<tr>\n",
       "  <th>No. Observations:</th>      <td>   891</td>      <th>  AIC:               </th> <td>   936.2</td>\n",
       "</tr>\n",
       "<tr>\n",
       "  <th>Df Residuals:</th>          <td>   889</td>      <th>  BIC:               </th> <td>   945.8</td>\n",
       "</tr>\n",
       "<tr>\n",
       "  <th>Df Model:</th>              <td>     1</td>      <th>                     </th>     <td> </td>   \n",
       "</tr>\n",
       "<tr>\n",
       "  <th>Covariance Type:</th>      <td>nonrobust</td>    <th>                     </th>     <td> </td>   \n",
       "</tr>\n",
       "</table>\n",
       "<table class=\"simpletable\">\n",
       "<tr>\n",
       "      <td></td>         <th>coef</th>     <th>std err</th>      <th>t</th>      <th>P>|t|</th>  <th>[0.025</th>    <th>0.975]</th>  \n",
       "</tr>\n",
       "<tr>\n",
       "  <th>Intercept</th> <td>    0.7420</td> <td>    0.023</td> <td>   32.171</td> <td> 0.000</td> <td>    0.697</td> <td>    0.787</td>\n",
       "</tr>\n",
       "<tr>\n",
       "  <th>Sex</th>       <td>   -0.5531</td> <td>    0.029</td> <td>  -19.298</td> <td> 0.000</td> <td>   -0.609</td> <td>   -0.497</td>\n",
       "</tr>\n",
       "</table>\n",
       "<table class=\"simpletable\">\n",
       "<tr>\n",
       "  <th>Omnibus:</th>       <td>25.424</td> <th>  Durbin-Watson:     </th> <td>   1.959</td>\n",
       "</tr>\n",
       "<tr>\n",
       "  <th>Prob(Omnibus):</th> <td> 0.000</td> <th>  Jarque-Bera (JB):  </th> <td>  27.169</td>\n",
       "</tr>\n",
       "<tr>\n",
       "  <th>Skew:</th>          <td> 0.427</td> <th>  Prob(JB):          </th> <td>1.26e-06</td>\n",
       "</tr>\n",
       "<tr>\n",
       "  <th>Kurtosis:</th>      <td> 2.963</td> <th>  Cond. No.          </th> <td>    3.13</td>\n",
       "</tr>\n",
       "</table><br/><br/>Notes:<br/>[1] Standard Errors assume that the covariance matrix of the errors is correctly specified."
      ],
      "text/latex": [
       "\\begin{center}\n",
       "\\begin{tabular}{lclc}\n",
       "\\toprule\n",
       "\\textbf{Dep. Variable:}    &     Survived     & \\textbf{  R-squared:         } &     0.295   \\\\\n",
       "\\textbf{Model:}            &       OLS        & \\textbf{  Adj. R-squared:    } &     0.294   \\\\\n",
       "\\textbf{Method:}           &  Least Squares   & \\textbf{  F-statistic:       } &     372.4   \\\\\n",
       "\\textbf{Date:}             & Mon, 04 Nov 2024 & \\textbf{  Prob (F-statistic):} &  1.41e-69   \\\\\n",
       "\\textbf{Time:}             &     20:17:44     & \\textbf{  Log-Likelihood:    } &   -466.09   \\\\\n",
       "\\textbf{No. Observations:} &         891      & \\textbf{  AIC:               } &     936.2   \\\\\n",
       "\\textbf{Df Residuals:}     &         889      & \\textbf{  BIC:               } &     945.8   \\\\\n",
       "\\textbf{Df Model:}         &           1      & \\textbf{                     } &             \\\\\n",
       "\\textbf{Covariance Type:}  &    nonrobust     & \\textbf{                     } &             \\\\\n",
       "\\bottomrule\n",
       "\\end{tabular}\n",
       "\\begin{tabular}{lcccccc}\n",
       "                   & \\textbf{coef} & \\textbf{std err} & \\textbf{t} & \\textbf{P$> |$t$|$} & \\textbf{[0.025} & \\textbf{0.975]}  \\\\\n",
       "\\midrule\n",
       "\\textbf{Intercept} &       0.7420  &        0.023     &    32.171  &         0.000        &        0.697    &        0.787     \\\\\n",
       "\\textbf{Sex}       &      -0.5531  &        0.029     &   -19.298  &         0.000        &       -0.609    &       -0.497     \\\\\n",
       "\\bottomrule\n",
       "\\end{tabular}\n",
       "\\begin{tabular}{lclc}\n",
       "\\textbf{Omnibus:}       & 25.424 & \\textbf{  Durbin-Watson:     } &    1.959  \\\\\n",
       "\\textbf{Prob(Omnibus):} &  0.000 & \\textbf{  Jarque-Bera (JB):  } &   27.169  \\\\\n",
       "\\textbf{Skew:}          &  0.427 & \\textbf{  Prob(JB):          } & 1.26e-06  \\\\\n",
       "\\textbf{Kurtosis:}      &  2.963 & \\textbf{  Cond. No.          } &     3.13  \\\\\n",
       "\\bottomrule\n",
       "\\end{tabular}\n",
       "%\\caption{OLS Regression Results}\n",
       "\\end{center}\n",
       "\n",
       "Notes: \\newline\n",
       " [1] Standard Errors assume that the covariance matrix of the errors is correctly specified."
      ],
      "text/plain": [
       "<class 'statsmodels.iolib.summary.Summary'>\n",
       "\"\"\"\n",
       "                            OLS Regression Results                            \n",
       "==============================================================================\n",
       "Dep. Variable:               Survived   R-squared:                       0.295\n",
       "Model:                            OLS   Adj. R-squared:                  0.294\n",
       "Method:                 Least Squares   F-statistic:                     372.4\n",
       "Date:                Mon, 04 Nov 2024   Prob (F-statistic):           1.41e-69\n",
       "Time:                        20:17:44   Log-Likelihood:                -466.09\n",
       "No. Observations:                 891   AIC:                             936.2\n",
       "Df Residuals:                     889   BIC:                             945.8\n",
       "Df Model:                           1                                         \n",
       "Covariance Type:            nonrobust                                         \n",
       "==============================================================================\n",
       "                 coef    std err          t      P>|t|      [0.025      0.975]\n",
       "------------------------------------------------------------------------------\n",
       "Intercept      0.7420      0.023     32.171      0.000       0.697       0.787\n",
       "Sex           -0.5531      0.029    -19.298      0.000      -0.609      -0.497\n",
       "==============================================================================\n",
       "Omnibus:                       25.424   Durbin-Watson:                   1.959\n",
       "Prob(Omnibus):                  0.000   Jarque-Bera (JB):               27.169\n",
       "Skew:                           0.427   Prob(JB):                     1.26e-06\n",
       "Kurtosis:                       2.963   Cond. No.                         3.13\n",
       "==============================================================================\n",
       "\n",
       "Notes:\n",
       "[1] Standard Errors assume that the covariance matrix of the errors is correctly specified.\n",
       "\"\"\""
      ]
     },
     "execution_count": 9,
     "metadata": {},
     "output_type": "execute_result"
    }
   ],
   "source": [
    "# Creating a multiple linear regression \n",
    "\n",
    "model =  sm.ols(formula='Survived ~ Sex',data=df) \n",
    "model = model.fit()\n",
    "model.summary()"
   ]
  },
  {
   "cell_type": "code",
   "execution_count": 10,
   "id": "06ba193c",
   "metadata": {
    "execution": {
     "iopub.execute_input": "2024-11-04T20:17:44.094183Z",
     "iopub.status.busy": "2024-11-04T20:17:44.093359Z",
     "iopub.status.idle": "2024-11-04T20:17:44.111046Z",
     "shell.execute_reply": "2024-11-04T20:17:44.109890Z"
    },
    "papermill": {
     "duration": 0.027594,
     "end_time": "2024-11-04T20:17:44.113876",
     "exception": false,
     "start_time": "2024-11-04T20:17:44.086282",
     "status": "completed"
    },
    "tags": []
   },
   "outputs": [
    {
     "name": "stderr",
     "output_type": "stream",
     "text": [
      "/tmp/ipykernel_18/2590517356.py:3: FutureWarning: Downcasting behavior in `replace` is deprecated and will be removed in a future version. To retain the old behavior, explicitly call `result.infer_objects(copy=False)`. To opt-in to the future behavior, set `pd.set_option('future.no_silent_downcasting', True)`\n",
      "  test_df['Sex'] =  test_df['Sex'].replace('female',0).replace('male',1)\n"
     ]
    }
   ],
   "source": [
    "# Testing our Model\n",
    "test_df = pd.read_csv('/kaggle/input/titanic-dataset/test.csv')\n",
    "test_df['Sex'] =  test_df['Sex'].replace('female',0).replace('male',1)\n",
    "new_data = pd.DataFrame({'Sex': test_df['Sex']})\n"
   ]
  },
  {
   "cell_type": "code",
   "execution_count": 11,
   "id": "e3486172",
   "metadata": {
    "execution": {
     "iopub.execute_input": "2024-11-04T20:17:44.129108Z",
     "iopub.status.busy": "2024-11-04T20:17:44.128714Z",
     "iopub.status.idle": "2024-11-04T20:17:44.141698Z",
     "shell.execute_reply": "2024-11-04T20:17:44.140508Z"
    },
    "papermill": {
     "duration": 0.021923,
     "end_time": "2024-11-04T20:17:44.143918",
     "exception": false,
     "start_time": "2024-11-04T20:17:44.121995",
     "status": "completed"
    },
    "tags": []
   },
   "outputs": [
    {
     "data": {
      "text/plain": [
       "0    0.0\n",
       "1    1.0\n",
       "2    0.0\n",
       "3    0.0\n",
       "4    1.0\n",
       "dtype: float64"
      ]
     },
     "execution_count": 11,
     "metadata": {},
     "output_type": "execute_result"
    }
   ],
   "source": [
    "predicted = round(model.predict(new_data))\n",
    "predicted.head()"
   ]
  },
  {
   "cell_type": "code",
   "execution_count": 12,
   "id": "d9ca1d05",
   "metadata": {
    "execution": {
     "iopub.execute_input": "2024-11-04T20:17:44.156966Z",
     "iopub.status.busy": "2024-11-04T20:17:44.156560Z",
     "iopub.status.idle": "2024-11-04T20:17:44.163001Z",
     "shell.execute_reply": "2024-11-04T20:17:44.161864Z"
    },
    "papermill": {
     "duration": 0.015825,
     "end_time": "2024-11-04T20:17:44.165393",
     "exception": false,
     "start_time": "2024-11-04T20:17:44.149568",
     "status": "completed"
    },
    "tags": []
   },
   "outputs": [],
   "source": [
    "gender_submission = pd.DataFrame({'PassengerId':test_df['PassengerId'],'Survived':predicted})"
   ]
  },
  {
   "cell_type": "code",
   "execution_count": 13,
   "id": "6fd26393",
   "metadata": {
    "execution": {
     "iopub.execute_input": "2024-11-04T20:17:44.179440Z",
     "iopub.status.busy": "2024-11-04T20:17:44.178438Z",
     "iopub.status.idle": "2024-11-04T20:17:44.187730Z",
     "shell.execute_reply": "2024-11-04T20:17:44.186426Z"
    },
    "papermill": {
     "duration": 0.01866,
     "end_time": "2024-11-04T20:17:44.190201",
     "exception": false,
     "start_time": "2024-11-04T20:17:44.171541",
     "status": "completed"
    },
    "tags": []
   },
   "outputs": [],
   "source": [
    "gender_submission.head()\n",
    "gender_submission.to_csv('./gender_submission.csv',index=False)  "
   ]
  }
 ],
 "metadata": {
  "kaggle": {
   "accelerator": "none",
   "dataSources": [
    {
     "datasetId": 6003278,
     "sourceId": 9796004,
     "sourceType": "datasetVersion"
    }
   ],
   "dockerImageVersionId": 30786,
   "isGpuEnabled": false,
   "isInternetEnabled": false,
   "language": "python",
   "sourceType": "notebook"
  },
  "kernelspec": {
   "display_name": "Python 3",
   "language": "python",
   "name": "python3"
  },
  "language_info": {
   "codemirror_mode": {
    "name": "ipython",
    "version": 3
   },
   "file_extension": ".py",
   "mimetype": "text/x-python",
   "name": "python",
   "nbconvert_exporter": "python",
   "pygments_lexer": "ipython3",
   "version": "3.10.14"
  },
  "papermill": {
   "default_parameters": {},
   "duration": 7.400651,
   "end_time": "2024-11-04T20:17:44.816714",
   "environment_variables": {},
   "exception": null,
   "input_path": "__notebook__.ipynb",
   "output_path": "__notebook__.ipynb",
   "parameters": {},
   "start_time": "2024-11-04T20:17:37.416063",
   "version": "2.6.0"
  }
 },
 "nbformat": 4,
 "nbformat_minor": 5
}
