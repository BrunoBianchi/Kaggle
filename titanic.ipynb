{
 "cells": [
  {
   "cell_type": "code",
   "execution_count": 1,
   "id": "c9a5cfdc",
   "metadata": {
    "_cell_guid": "b1076dfc-b9ad-4769-8c92-a6c4dae69d19",
    "_uuid": "8f2839f25d086af736a60e9eeb907d3b93b6e0e5",
    "execution": {
     "iopub.execute_input": "2024-11-04T23:00:10.579902Z",
     "iopub.status.busy": "2024-11-04T23:00:10.579378Z",
     "iopub.status.idle": "2024-11-04T23:00:15.726731Z",
     "shell.execute_reply": "2024-11-04T23:00:15.725326Z"
    },
    "papermill": {
     "duration": 5.15969,
     "end_time": "2024-11-04T23:00:15.729901",
     "exception": false,
     "start_time": "2024-11-04T23:00:10.570211",
     "status": "completed"
    },
    "tags": []
   },
   "outputs": [],
   "source": [
    "import pandas as pd\n",
    "import numpy as np\n",
    "import seaborn as sns\n",
    "import matplotlib.pylab as plt\n",
    "from sklearn.model_selection import train_test_split\n",
    "from sklearn.ensemble import RandomForestClassifier\n",
    "import category_encoders as ce\n",
    "\n",
    "plt.style.use('ggplot')\t"
   ]
  },
  {
   "cell_type": "code",
   "execution_count": 2,
   "id": "606f222b",
   "metadata": {
    "execution": {
     "iopub.execute_input": "2024-11-04T23:00:15.745594Z",
     "iopub.status.busy": "2024-11-04T23:00:15.744924Z",
     "iopub.status.idle": "2024-11-04T23:00:15.775516Z",
     "shell.execute_reply": "2024-11-04T23:00:15.774190Z"
    },
    "papermill": {
     "duration": 0.042991,
     "end_time": "2024-11-04T23:00:15.779102",
     "exception": false,
     "start_time": "2024-11-04T23:00:15.736111",
     "status": "completed"
    },
    "tags": []
   },
   "outputs": [],
   "source": [
    "df = pd.read_csv('/kaggle/input/titanic-dataset/train.csv')"
   ]
  },
  {
   "cell_type": "code",
   "execution_count": 3,
   "id": "0e2aa6f4",
   "metadata": {
    "execution": {
     "iopub.execute_input": "2024-11-04T23:00:15.793980Z",
     "iopub.status.busy": "2024-11-04T23:00:15.793553Z",
     "iopub.status.idle": "2024-11-04T23:00:15.803273Z",
     "shell.execute_reply": "2024-11-04T23:00:15.801989Z"
    },
    "papermill": {
     "duration": 0.020587,
     "end_time": "2024-11-04T23:00:15.806133",
     "exception": false,
     "start_time": "2024-11-04T23:00:15.785546",
     "status": "completed"
    },
    "tags": []
   },
   "outputs": [
    {
     "data": {
      "text/plain": [
       "Index(['PassengerId', 'Survived', 'Pclass', 'Name', 'Sex', 'Age', 'SibSp',\n",
       "       'Parch', 'Ticket', 'Fare', 'Cabin', 'Embarked'],\n",
       "      dtype='object')"
      ]
     },
     "execution_count": 3,
     "metadata": {},
     "output_type": "execute_result"
    }
   ],
   "source": [
    "\n",
    "df.columns\n"
   ]
  },
  {
   "cell_type": "code",
   "execution_count": 4,
   "id": "4c8557da",
   "metadata": {
    "execution": {
     "iopub.execute_input": "2024-11-04T23:00:15.822387Z",
     "iopub.status.busy": "2024-11-04T23:00:15.821917Z",
     "iopub.status.idle": "2024-11-04T23:00:15.841736Z",
     "shell.execute_reply": "2024-11-04T23:00:15.840139Z"
    },
    "papermill": {
     "duration": 0.031853,
     "end_time": "2024-11-04T23:00:15.844833",
     "exception": false,
     "start_time": "2024-11-04T23:00:15.812980",
     "status": "completed"
    },
    "tags": []
   },
   "outputs": [],
   "source": [
    "df = df[['PassengerId', 'Survived', 'Pclass', 'Name', 'Sex', 'Age', \n",
    "         'SibSp',\n",
    "       'Parch', 'Ticket',\n",
    "         'Fare', 'Cabin', \n",
    "         'Embarked']].copy()"
   ]
  },
  {
   "cell_type": "code",
   "execution_count": 5,
   "id": "18ad402a",
   "metadata": {
    "execution": {
     "iopub.execute_input": "2024-11-04T23:00:15.860104Z",
     "iopub.status.busy": "2024-11-04T23:00:15.859648Z",
     "iopub.status.idle": "2024-11-04T23:00:15.874891Z",
     "shell.execute_reply": "2024-11-04T23:00:15.873474Z"
    },
    "papermill": {
     "duration": 0.026489,
     "end_time": "2024-11-04T23:00:15.878051",
     "exception": false,
     "start_time": "2024-11-04T23:00:15.851562",
     "status": "completed"
    },
    "tags": []
   },
   "outputs": [],
   "source": [
    "df['Age'] = df['Age'].fillna(df['Age'].mean(skipna=True))\n",
    "df['Embarked'] = df['Embarked'].fillna(df['Embarked'].mode()[0])"
   ]
  },
  {
   "cell_type": "code",
   "execution_count": 6,
   "id": "23d15791",
   "metadata": {
    "execution": {
     "iopub.execute_input": "2024-11-04T23:00:15.892633Z",
     "iopub.status.busy": "2024-11-04T23:00:15.892193Z",
     "iopub.status.idle": "2024-11-04T23:00:15.906407Z",
     "shell.execute_reply": "2024-11-04T23:00:15.904942Z"
    },
    "papermill": {
     "duration": 0.024991,
     "end_time": "2024-11-04T23:00:15.909591",
     "exception": false,
     "start_time": "2024-11-04T23:00:15.884600",
     "status": "completed"
    },
    "tags": []
   },
   "outputs": [],
   "source": [
    "# Creating a multiple linear regression \n",
    "X = df.drop(['Survived'],axis = 1)\n",
    "y = df['Survived']\n",
    "X_train, X_test, y_train, y_test = train_test_split(X, y, test_size = 0.30, random_state =300)"
   ]
  },
  {
   "cell_type": "code",
   "execution_count": 7,
   "id": "b9423d53",
   "metadata": {
    "execution": {
     "iopub.execute_input": "2024-11-04T23:00:15.924444Z",
     "iopub.status.busy": "2024-11-04T23:00:15.923845Z",
     "iopub.status.idle": "2024-11-04T23:00:16.017704Z",
     "shell.execute_reply": "2024-11-04T23:00:16.016503Z"
    },
    "papermill": {
     "duration": 0.105116,
     "end_time": "2024-11-04T23:00:16.020910",
     "exception": false,
     "start_time": "2024-11-04T23:00:15.915794",
     "status": "completed"
    },
    "tags": []
   },
   "outputs": [],
   "source": [
    "encoder = ce.OrdinalEncoder(cols=['PassengerId', 'Pclass', 'Name', 'Sex', 'Age', \n",
    "         'SibSp',\n",
    "       'Parch', 'Ticket',\n",
    "         'Fare', 'Cabin', \n",
    "         'Embarked'])\n",
    "\n",
    "\n",
    "X_train = encoder.fit_transform(X_train)\n",
    "\n",
    "X_test = encoder.transform(X_test)\n"
   ]
  },
  {
   "cell_type": "code",
   "execution_count": 8,
   "id": "c62738d6",
   "metadata": {
    "execution": {
     "iopub.execute_input": "2024-11-04T23:00:16.035182Z",
     "iopub.status.busy": "2024-11-04T23:00:16.034723Z",
     "iopub.status.idle": "2024-11-04T23:00:16.055964Z",
     "shell.execute_reply": "2024-11-04T23:00:16.054506Z"
    },
    "papermill": {
     "duration": 0.032231,
     "end_time": "2024-11-04T23:00:16.059355",
     "exception": false,
     "start_time": "2024-11-04T23:00:16.027124",
     "status": "completed"
    },
    "tags": []
   },
   "outputs": [
    {
     "data": {
      "text/html": [
       "<div>\n",
       "<style scoped>\n",
       "    .dataframe tbody tr th:only-of-type {\n",
       "        vertical-align: middle;\n",
       "    }\n",
       "\n",
       "    .dataframe tbody tr th {\n",
       "        vertical-align: top;\n",
       "    }\n",
       "\n",
       "    .dataframe thead th {\n",
       "        text-align: right;\n",
       "    }\n",
       "</style>\n",
       "<table border=\"1\" class=\"dataframe\">\n",
       "  <thead>\n",
       "    <tr style=\"text-align: right;\">\n",
       "      <th></th>\n",
       "      <th>PassengerId</th>\n",
       "      <th>Pclass</th>\n",
       "      <th>Name</th>\n",
       "      <th>Sex</th>\n",
       "      <th>Age</th>\n",
       "      <th>SibSp</th>\n",
       "      <th>Parch</th>\n",
       "      <th>Ticket</th>\n",
       "      <th>Fare</th>\n",
       "      <th>Cabin</th>\n",
       "      <th>Embarked</th>\n",
       "    </tr>\n",
       "  </thead>\n",
       "  <tbody>\n",
       "    <tr>\n",
       "      <th>613</th>\n",
       "      <td>1</td>\n",
       "      <td>1</td>\n",
       "      <td>1</td>\n",
       "      <td>1</td>\n",
       "      <td>1</td>\n",
       "      <td>1</td>\n",
       "      <td>1</td>\n",
       "      <td>1</td>\n",
       "      <td>1</td>\n",
       "      <td>115</td>\n",
       "      <td>1</td>\n",
       "    </tr>\n",
       "    <tr>\n",
       "      <th>715</th>\n",
       "      <td>2</td>\n",
       "      <td>1</td>\n",
       "      <td>2</td>\n",
       "      <td>1</td>\n",
       "      <td>2</td>\n",
       "      <td>1</td>\n",
       "      <td>1</td>\n",
       "      <td>2</td>\n",
       "      <td>2</td>\n",
       "      <td>1</td>\n",
       "      <td>2</td>\n",
       "    </tr>\n",
       "    <tr>\n",
       "      <th>314</th>\n",
       "      <td>3</td>\n",
       "      <td>2</td>\n",
       "      <td>3</td>\n",
       "      <td>1</td>\n",
       "      <td>3</td>\n",
       "      <td>2</td>\n",
       "      <td>2</td>\n",
       "      <td>3</td>\n",
       "      <td>3</td>\n",
       "      <td>115</td>\n",
       "      <td>2</td>\n",
       "    </tr>\n",
       "    <tr>\n",
       "      <th>418</th>\n",
       "      <td>4</td>\n",
       "      <td>2</td>\n",
       "      <td>4</td>\n",
       "      <td>1</td>\n",
       "      <td>4</td>\n",
       "      <td>1</td>\n",
       "      <td>1</td>\n",
       "      <td>4</td>\n",
       "      <td>4</td>\n",
       "      <td>115</td>\n",
       "      <td>2</td>\n",
       "    </tr>\n",
       "    <tr>\n",
       "      <th>235</th>\n",
       "      <td>5</td>\n",
       "      <td>1</td>\n",
       "      <td>5</td>\n",
       "      <td>2</td>\n",
       "      <td>1</td>\n",
       "      <td>1</td>\n",
       "      <td>1</td>\n",
       "      <td>5</td>\n",
       "      <td>5</td>\n",
       "      <td>115</td>\n",
       "      <td>2</td>\n",
       "    </tr>\n",
       "  </tbody>\n",
       "</table>\n",
       "</div>"
      ],
      "text/plain": [
       "     PassengerId  Pclass  Name  Sex  Age  SibSp  Parch  Ticket  Fare  Cabin  \\\n",
       "613            1       1     1    1    1      1      1       1     1    115   \n",
       "715            2       1     2    1    2      1      1       2     2      1   \n",
       "314            3       2     3    1    3      2      2       3     3    115   \n",
       "418            4       2     4    1    4      1      1       4     4    115   \n",
       "235            5       1     5    2    1      1      1       5     5    115   \n",
       "\n",
       "     Embarked  \n",
       "613         1  \n",
       "715         2  \n",
       "314         2  \n",
       "418         2  \n",
       "235         2  "
      ]
     },
     "execution_count": 8,
     "metadata": {},
     "output_type": "execute_result"
    }
   ],
   "source": [
    "X_train.head()"
   ]
  },
  {
   "cell_type": "code",
   "execution_count": 9,
   "id": "4d53671b",
   "metadata": {
    "execution": {
     "iopub.execute_input": "2024-11-04T23:00:16.075657Z",
     "iopub.status.busy": "2024-11-04T23:00:16.075132Z",
     "iopub.status.idle": "2024-11-04T23:00:19.297198Z",
     "shell.execute_reply": "2024-11-04T23:00:19.295910Z"
    },
    "papermill": {
     "duration": 3.23328,
     "end_time": "2024-11-04T23:00:19.300337",
     "exception": false,
     "start_time": "2024-11-04T23:00:16.067057",
     "status": "completed"
    },
    "tags": []
   },
   "outputs": [
    {
     "data": {
      "text/html": [
       "<style>#sk-container-id-1 {color: black;background-color: white;}#sk-container-id-1 pre{padding: 0;}#sk-container-id-1 div.sk-toggleable {background-color: white;}#sk-container-id-1 label.sk-toggleable__label {cursor: pointer;display: block;width: 100%;margin-bottom: 0;padding: 0.3em;box-sizing: border-box;text-align: center;}#sk-container-id-1 label.sk-toggleable__label-arrow:before {content: \"▸\";float: left;margin-right: 0.25em;color: #696969;}#sk-container-id-1 label.sk-toggleable__label-arrow:hover:before {color: black;}#sk-container-id-1 div.sk-estimator:hover label.sk-toggleable__label-arrow:before {color: black;}#sk-container-id-1 div.sk-toggleable__content {max-height: 0;max-width: 0;overflow: hidden;text-align: left;background-color: #f0f8ff;}#sk-container-id-1 div.sk-toggleable__content pre {margin: 0.2em;color: black;border-radius: 0.25em;background-color: #f0f8ff;}#sk-container-id-1 input.sk-toggleable__control:checked~div.sk-toggleable__content {max-height: 200px;max-width: 100%;overflow: auto;}#sk-container-id-1 input.sk-toggleable__control:checked~label.sk-toggleable__label-arrow:before {content: \"▾\";}#sk-container-id-1 div.sk-estimator input.sk-toggleable__control:checked~label.sk-toggleable__label {background-color: #d4ebff;}#sk-container-id-1 div.sk-label input.sk-toggleable__control:checked~label.sk-toggleable__label {background-color: #d4ebff;}#sk-container-id-1 input.sk-hidden--visually {border: 0;clip: rect(1px 1px 1px 1px);clip: rect(1px, 1px, 1px, 1px);height: 1px;margin: -1px;overflow: hidden;padding: 0;position: absolute;width: 1px;}#sk-container-id-1 div.sk-estimator {font-family: monospace;background-color: #f0f8ff;border: 1px dotted black;border-radius: 0.25em;box-sizing: border-box;margin-bottom: 0.5em;}#sk-container-id-1 div.sk-estimator:hover {background-color: #d4ebff;}#sk-container-id-1 div.sk-parallel-item::after {content: \"\";width: 100%;border-bottom: 1px solid gray;flex-grow: 1;}#sk-container-id-1 div.sk-label:hover label.sk-toggleable__label {background-color: #d4ebff;}#sk-container-id-1 div.sk-serial::before {content: \"\";position: absolute;border-left: 1px solid gray;box-sizing: border-box;top: 0;bottom: 0;left: 50%;z-index: 0;}#sk-container-id-1 div.sk-serial {display: flex;flex-direction: column;align-items: center;background-color: white;padding-right: 0.2em;padding-left: 0.2em;position: relative;}#sk-container-id-1 div.sk-item {position: relative;z-index: 1;}#sk-container-id-1 div.sk-parallel {display: flex;align-items: stretch;justify-content: center;background-color: white;position: relative;}#sk-container-id-1 div.sk-item::before, #sk-container-id-1 div.sk-parallel-item::before {content: \"\";position: absolute;border-left: 1px solid gray;box-sizing: border-box;top: 0;bottom: 0;left: 50%;z-index: -1;}#sk-container-id-1 div.sk-parallel-item {display: flex;flex-direction: column;z-index: 1;position: relative;background-color: white;}#sk-container-id-1 div.sk-parallel-item:first-child::after {align-self: flex-end;width: 50%;}#sk-container-id-1 div.sk-parallel-item:last-child::after {align-self: flex-start;width: 50%;}#sk-container-id-1 div.sk-parallel-item:only-child::after {width: 0;}#sk-container-id-1 div.sk-dashed-wrapped {border: 1px dashed gray;margin: 0 0.4em 0.5em 0.4em;box-sizing: border-box;padding-bottom: 0.4em;background-color: white;}#sk-container-id-1 div.sk-label label {font-family: monospace;font-weight: bold;display: inline-block;line-height: 1.2em;}#sk-container-id-1 div.sk-label-container {text-align: center;}#sk-container-id-1 div.sk-container {/* jupyter's `normalize.less` sets `[hidden] { display: none; }` but bootstrap.min.css set `[hidden] { display: none !important; }` so we also need the `!important` here to be able to override the default hidden behavior on the sphinx rendered scikit-learn.org. See: https://github.com/scikit-learn/scikit-learn/issues/21755 */display: inline-block !important;position: relative;}#sk-container-id-1 div.sk-text-repr-fallback {display: none;}</style><div id=\"sk-container-id-1\" class=\"sk-top-container\"><div class=\"sk-text-repr-fallback\"><pre>RandomForestClassifier(n_estimators=1000, random_state=1000)</pre><b>In a Jupyter environment, please rerun this cell to show the HTML representation or trust the notebook. <br />On GitHub, the HTML representation is unable to render, please try loading this page with nbviewer.org.</b></div><div class=\"sk-container\" hidden><div class=\"sk-item\"><div class=\"sk-estimator sk-toggleable\"><input class=\"sk-toggleable__control sk-hidden--visually\" id=\"sk-estimator-id-1\" type=\"checkbox\" checked><label for=\"sk-estimator-id-1\" class=\"sk-toggleable__label sk-toggleable__label-arrow\">RandomForestClassifier</label><div class=\"sk-toggleable__content\"><pre>RandomForestClassifier(n_estimators=1000, random_state=1000)</pre></div></div></div></div></div>"
      ],
      "text/plain": [
       "RandomForestClassifier(n_estimators=1000, random_state=1000)"
      ]
     },
     "execution_count": 9,
     "metadata": {},
     "output_type": "execute_result"
    }
   ],
   "source": [
    "model = RandomForestClassifier(random_state=1000,n_estimators=1000)\n",
    "model.fit(X_train,y_train)"
   ]
  },
  {
   "cell_type": "code",
   "execution_count": 10,
   "id": "32d227d8",
   "metadata": {
    "execution": {
     "iopub.execute_input": "2024-11-04T23:00:19.317618Z",
     "iopub.status.busy": "2024-11-04T23:00:19.317051Z",
     "iopub.status.idle": "2024-11-04T23:00:19.434891Z",
     "shell.execute_reply": "2024-11-04T23:00:19.433643Z"
    },
    "papermill": {
     "duration": 0.130154,
     "end_time": "2024-11-04T23:00:19.437788",
     "exception": false,
     "start_time": "2024-11-04T23:00:19.307634",
     "status": "completed"
    },
    "tags": []
   },
   "outputs": [],
   "source": [
    "y_pred = model.predict(X_test)"
   ]
  },
  {
   "cell_type": "code",
   "execution_count": 11,
   "id": "714d3eba",
   "metadata": {
    "execution": {
     "iopub.execute_input": "2024-11-04T23:00:19.454642Z",
     "iopub.status.busy": "2024-11-04T23:00:19.453298Z",
     "iopub.status.idle": "2024-11-04T23:00:19.462352Z",
     "shell.execute_reply": "2024-11-04T23:00:19.460965Z"
    },
    "papermill": {
     "duration": 0.020028,
     "end_time": "2024-11-04T23:00:19.465141",
     "exception": false,
     "start_time": "2024-11-04T23:00:19.445113",
     "status": "completed"
    },
    "tags": []
   },
   "outputs": [
    {
     "name": "stdout",
     "output_type": "stream",
     "text": [
      "Model accuracy score with 100 decision-trees : 0.7873\n"
     ]
    }
   ],
   "source": [
    "from sklearn.metrics import accuracy_score\n",
    "\n",
    "print('Model accuracy score with 100 decision-trees : {0:0.4f}'. format(accuracy_score(y_test, y_pred)))"
   ]
  },
  {
   "cell_type": "code",
   "execution_count": 12,
   "id": "129ab7b3",
   "metadata": {
    "execution": {
     "iopub.execute_input": "2024-11-04T23:00:19.480584Z",
     "iopub.status.busy": "2024-11-04T23:00:19.480081Z",
     "iopub.status.idle": "2024-11-04T23:00:19.513077Z",
     "shell.execute_reply": "2024-11-04T23:00:19.511542Z"
    },
    "papermill": {
     "duration": 0.044109,
     "end_time": "2024-11-04T23:00:19.516073",
     "exception": false,
     "start_time": "2024-11-04T23:00:19.471964",
     "status": "completed"
    },
    "tags": []
   },
   "outputs": [],
   "source": [
    "# Testing our Model\n",
    "test_df = pd.read_csv('/kaggle/input/titanic-dataset/test.csv')\n",
    "test = encoder.transform(test_df)"
   ]
  },
  {
   "cell_type": "code",
   "execution_count": 13,
   "id": "ffe6aada",
   "metadata": {
    "execution": {
     "iopub.execute_input": "2024-11-04T23:00:19.533146Z",
     "iopub.status.busy": "2024-11-04T23:00:19.532664Z",
     "iopub.status.idle": "2024-11-04T23:00:19.659577Z",
     "shell.execute_reply": "2024-11-04T23:00:19.658277Z"
    },
    "papermill": {
     "duration": 0.138896,
     "end_time": "2024-11-04T23:00:19.662501",
     "exception": false,
     "start_time": "2024-11-04T23:00:19.523605",
     "status": "completed"
    },
    "tags": []
   },
   "outputs": [],
   "source": [
    "prediction = model.predict(test)"
   ]
  },
  {
   "cell_type": "code",
   "execution_count": 14,
   "id": "5cf4a35c",
   "metadata": {
    "execution": {
     "iopub.execute_input": "2024-11-04T23:00:19.678685Z",
     "iopub.status.busy": "2024-11-04T23:00:19.677413Z",
     "iopub.status.idle": "2024-11-04T23:00:19.684239Z",
     "shell.execute_reply": "2024-11-04T23:00:19.682993Z"
    },
    "papermill": {
     "duration": 0.017466,
     "end_time": "2024-11-04T23:00:19.686696",
     "exception": false,
     "start_time": "2024-11-04T23:00:19.669230",
     "status": "completed"
    },
    "tags": []
   },
   "outputs": [],
   "source": [
    "gender_submission = pd.DataFrame({'PassengerId':test_df['PassengerId'],'Survived':prediction})"
   ]
  },
  {
   "cell_type": "code",
   "execution_count": 15,
   "id": "c592bb28",
   "metadata": {
    "execution": {
     "iopub.execute_input": "2024-11-04T23:00:19.702787Z",
     "iopub.status.busy": "2024-11-04T23:00:19.702306Z",
     "iopub.status.idle": "2024-11-04T23:00:19.713541Z",
     "shell.execute_reply": "2024-11-04T23:00:19.712085Z"
    },
    "papermill": {
     "duration": 0.022568,
     "end_time": "2024-11-04T23:00:19.716516",
     "exception": false,
     "start_time": "2024-11-04T23:00:19.693948",
     "status": "completed"
    },
    "tags": []
   },
   "outputs": [],
   "source": [
    "gender_submission.head()\n",
    "gender_submission.to_csv('./gender_submission_new.csv',index=False)  "
   ]
  }
 ],
 "metadata": {
  "kaggle": {
   "accelerator": "none",
   "dataSources": [
    {
     "datasetId": 6003278,
     "sourceId": 9796004,
     "sourceType": "datasetVersion"
    }
   ],
   "dockerImageVersionId": 30786,
   "isGpuEnabled": false,
   "isInternetEnabled": false,
   "language": "python",
   "sourceType": "notebook"
  },
  "kernelspec": {
   "display_name": "Python 3",
   "language": "python",
   "name": "python3"
  },
  "language_info": {
   "codemirror_mode": {
    "name": "ipython",
    "version": 3
   },
   "file_extension": ".py",
   "mimetype": "text/x-python",
   "name": "python",
   "nbconvert_exporter": "python",
   "pygments_lexer": "ipython3",
   "version": "3.10.14"
  },
  "papermill": {
   "default_parameters": {},
   "duration": 13.524933,
   "end_time": "2024-11-04T23:00:20.448021",
   "environment_variables": {},
   "exception": null,
   "input_path": "__notebook__.ipynb",
   "output_path": "__notebook__.ipynb",
   "parameters": {},
   "start_time": "2024-11-04T23:00:06.923088",
   "version": "2.6.0"
  }
 },
 "nbformat": 4,
 "nbformat_minor": 5
}
